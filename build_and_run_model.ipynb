{
 "cells": [
  {
   "cell_type": "code",
   "execution_count": 9,
   "metadata": {},
   "outputs": [
    {
     "name": "stdout",
     "output_type": "stream",
     "text": [
      "The autoreload extension is already loaded. To reload it, use:\n",
      "  %reload_ext autoreload\n"
     ]
    }
   ],
   "source": [
    "%load_ext autoreload\n",
    "%autoreload 2\n"
   ]
  },
  {
   "cell_type": "code",
   "execution_count": 10,
   "metadata": {},
   "outputs": [],
   "source": [
    "import logging\n",
    "\n",
    "logging.basicConfig(\n",
    "    format=\"%(asctime)s ; %(levelname)s ; %(message)s\",\n",
    "    level=logging.DEBUG\n",
    ")\n",
    "logging.getLogger(\"scapy\").setLevel(logging.CRITICAL)\n",
    "logger = logging.getLogger(\"adAPT\")\n",
    "\n",
    "from typing import Tuple\n",
    "from pathlib import Path\n",
    "import tensorflow as tf\n",
    "from tensorflow.keras import layers\n",
    "from tensorflow.keras.regularizers import L2\n",
    "from tensorflow.keras import losses\n",
    "from tensorflow.keras import metrics\n",
    "from tensorflow.keras import optimizers\n",
    "from tensorflow import keras\n",
    "from sklearn.model_selection import train_test_split\n",
    "import pandas as pd\n",
    "import numpy as np\n",
    "from collections import Counter\n"
   ]
  },
  {
   "cell_type": "code",
   "execution_count": 11,
   "metadata": {},
   "outputs": [],
   "source": [
    "b_pkl = \"./data/benign_features.pkl\"\n",
    "m_pkl = \"./data/malicious_features.pkl\"\n",
    "\n",
    "b_df = pd.read_pickle(b_pkl)\n",
    "m_df = pd.read_pickle(m_pkl)\n"
   ]
  },
  {
   "cell_type": "code",
   "execution_count": 12,
   "metadata": {},
   "outputs": [],
   "source": [
    "b_df[\"malware\"] = 0.0"
   ]
  },
  {
   "cell_type": "code",
   "execution_count": 13,
   "metadata": {},
   "outputs": [],
   "source": [
    "m_df[\"malware\"] = 1.0\n"
   ]
  },
  {
   "cell_type": "code",
   "execution_count": 14,
   "metadata": {},
   "outputs": [],
   "source": [
    "all_df = pd.concat([b_df, m_df])"
   ]
  },
  {
   "cell_type": "code",
   "execution_count": 15,
   "metadata": {},
   "outputs": [],
   "source": [
    "from math import log\n",
    "\n",
    "def shannon(counts, thing):\n",
    "    frequencies = ((i / len(thing)) for i in counts.values())\n",
    "    return - sum(f * log(f, 2) for f in frequencies)\n",
    "\n",
    "def string_shannon(string):\n",
    "    counts = Counter(string)\n",
    "    return shannon(counts, string)\n",
    "    \n",
    "\n",
    "def bytes_shannon(bytes):\n",
    "    counts = Counter(bytes)\n",
    "    return shannon(counts, bytes)\n",
    "\n",
    "def get_net_class(ip: str, class_type: str) -> Tuple[str]:\n",
    "    \"\"\" For ip = 192.168.1.5, provide the fillowing:\n",
    "    (\"192\", \"192.168\", \"192.168.1\", \"192.168.1.5\")\n",
    "    \"\"\"\n",
    "    parts = ip.split(\".\")\n",
    "    if len(parts) != 4:\n",
    "        return None\n",
    "    if class_type.lower() == \"a\":\n",
    "        return parts[0]\n",
    "    elif class_type.lower() == \"b\":\n",
    "        return \".\".join(parts[:2])\n",
    "    elif class_type.lower() == \"c\":\n",
    "        return \".\".join(parts[:3])\n",
    "    elif class_type.lower() == \"d\":\n",
    "        return ip\n",
    "    else:\n",
    "        raise ValueError(\"Class type must be A, B, C, or D\")\n",
    "    \n",
    "\n"
   ]
  },
  {
   "cell_type": "code",
   "execution_count": 16,
   "metadata": {},
   "outputs": [],
   "source": [
    "all_df[\"url_entropy\"] = all_df.url.apply(lambda x: string_shannon(x) if x is not None else 0)\n",
    "all_df[\"host_entropy\"] = all_df.host.apply(lambda x: string_shannon(x) if x is not None else 0)\n",
    "all_df[\"base_domain_entropy\"] = all_df.base_domain.apply(lambda x: string_shannon(x) if x is not None else 0)\n",
    "all_df[\"host_length\"] = all_df.host.apply(lambda x: len(x) if x is not None else 0)\n",
    "all_df[\"proto_packet_entropy\"] = all_df.proto_packet_cache.apply(lambda x: bytes_shannon(x) if x is not None else 0)\n",
    "\n",
    "all_df[\"source_ip_class_a\"] = all_df.source_addr.apply(lambda x: get_net_class(x, \"A\"))\n",
    "all_df[\"source_ip_class_b\"] = all_df.source_addr.apply(lambda x: get_net_class(x, \"B\"))\n",
    "all_df[\"source_ip_class_c\"] = all_df.source_addr.apply(lambda x: get_net_class(x, \"C\"))\n",
    "all_df[\"dest_ip_class_a\"] = all_df.dest_addr.apply(lambda x: get_net_class(x, \"A\"))\n",
    "all_df[\"dest_ip_class_b\"] = all_df.dest_addr.apply(lambda x: get_net_class(x, \"B\"))\n",
    "all_df[\"dest_ip_class_c\"] = all_df.dest_addr.apply(lambda x: get_net_class(x, \"C\"))\n"
   ]
  },
  {
   "cell_type": "code",
   "execution_count": 19,
   "metadata": {},
   "outputs": [
    {
     "data": {
      "text/html": [
       "<div>\n",
       "<style scoped>\n",
       "    .dataframe tbody tr th:only-of-type {\n",
       "        vertical-align: middle;\n",
       "    }\n",
       "\n",
       "    .dataframe tbody tr th {\n",
       "        vertical-align: top;\n",
       "    }\n",
       "\n",
       "    .dataframe thead th {\n",
       "        text-align: right;\n",
       "    }\n",
       "</style>\n",
       "<table border=\"1\" class=\"dataframe\">\n",
       "  <thead>\n",
       "    <tr style=\"text-align: right;\">\n",
       "      <th></th>\n",
       "      <th>protocol</th>\n",
       "      <th>app_layer</th>\n",
       "      <th>source_addr</th>\n",
       "      <th>dest_addr</th>\n",
       "      <th>source_port</th>\n",
       "      <th>dest_port</th>\n",
       "      <th>proto_packet_length</th>\n",
       "      <th>proto_packet_cache</th>\n",
       "      <th>ip_packet_length</th>\n",
       "      <th>ip_packet_cache</th>\n",
       "      <th>...</th>\n",
       "      <th>host_entropy</th>\n",
       "      <th>base_domain_entropy</th>\n",
       "      <th>host_length</th>\n",
       "      <th>proto_packet_entropy</th>\n",
       "      <th>source_ip_class_a</th>\n",
       "      <th>source_ip_class_b</th>\n",
       "      <th>source_ip_class_c</th>\n",
       "      <th>dest_ip_class_a</th>\n",
       "      <th>dest_ip_class_b</th>\n",
       "      <th>dest_ip_class_c</th>\n",
       "    </tr>\n",
       "  </thead>\n",
       "  <tbody>\n",
       "    <tr>\n",
       "      <th>10466</th>\n",
       "      <td>IP</td>\n",
       "      <td>Unknown</td>\n",
       "      <td>10.9.20.144</td>\n",
       "      <td>104.21.50.34</td>\n",
       "      <td>49790</td>\n",
       "      <td>80</td>\n",
       "      <td>40</td>\n",
       "      <td>b'E\\x00\\x00(\\xe5Z@\\x00\\x80\\x06\\\\\\xa5\\n\\t\\x14\\x...</td>\n",
       "      <td>40</td>\n",
       "      <td>b'E\\x00\\x00(\\xe5Z@\\x00\\x80\\x06\\\\\\xa5\\n\\t\\x14\\x...</td>\n",
       "      <td>...</td>\n",
       "      <td>0.0</td>\n",
       "      <td>0.0</td>\n",
       "      <td>0</td>\n",
       "      <td>4.084184</td>\n",
       "      <td>10</td>\n",
       "      <td>10.9</td>\n",
       "      <td>10.9.20</td>\n",
       "      <td>104</td>\n",
       "      <td>104.21</td>\n",
       "      <td>104.21.50</td>\n",
       "    </tr>\n",
       "    <tr>\n",
       "      <th>23087</th>\n",
       "      <td>Ethernet</td>\n",
       "      <td>Unknown</td>\n",
       "      <td>84.146.135.221</td>\n",
       "      <td>217.0.5.215</td>\n",
       "      <td>7078</td>\n",
       "      <td>5690</td>\n",
       "      <td>202</td>\n",
       "      <td>b'&lt;a\\x04P\\xd2\\x1a\\xc8\\x0e\\x14~3\\xa0\\x81\\x00'</td>\n",
       "      <td>202</td>\n",
       "      <td>b'E\\x00\\x00\\xc8m\\xf6@\\x00@\\x11\\x10\\xe8T\\x92\\x8...</td>\n",
       "      <td>...</td>\n",
       "      <td>0.0</td>\n",
       "      <td>0.0</td>\n",
       "      <td>0</td>\n",
       "      <td>3.807355</td>\n",
       "      <td>84</td>\n",
       "      <td>84.146</td>\n",
       "      <td>84.146.135</td>\n",
       "      <td>217</td>\n",
       "      <td>217.0</td>\n",
       "      <td>217.0.5</td>\n",
       "    </tr>\n",
       "    <tr>\n",
       "      <th>468</th>\n",
       "      <td>IP</td>\n",
       "      <td>HTTPResponse</td>\n",
       "      <td>104.223.119.167</td>\n",
       "      <td>10.1.4.101</td>\n",
       "      <td>80</td>\n",
       "      <td>50046</td>\n",
       "      <td>1428</td>\n",
       "      <td>b'E\\x00\\x05\\x94\\x03\\x01\\x00\\x00\\x80\\x06Cwh\\xdf...</td>\n",
       "      <td>1428</td>\n",
       "      <td>b'E\\x00\\x05\\x94\\x03\\x01\\x00\\x00\\x80\\x06Cwh\\xdf...</td>\n",
       "      <td>...</td>\n",
       "      <td>0.0</td>\n",
       "      <td>0.0</td>\n",
       "      <td>0</td>\n",
       "      <td>3.884184</td>\n",
       "      <td>104</td>\n",
       "      <td>104.223</td>\n",
       "      <td>104.223.119</td>\n",
       "      <td>10</td>\n",
       "      <td>10.1</td>\n",
       "      <td>10.1.4</td>\n",
       "    </tr>\n",
       "    <tr>\n",
       "      <th>10932</th>\n",
       "      <td>Ethernet</td>\n",
       "      <td>Unknown</td>\n",
       "      <td>217.0.5.215</td>\n",
       "      <td>84.146.135.221</td>\n",
       "      <td>15020</td>\n",
       "      <td>7078</td>\n",
       "      <td>202</td>\n",
       "      <td>b'\\xc8\\x0e\\x14~3\\xa0&lt;a\\x04P\\xd2\\x1a\\x81\\x00'</td>\n",
       "      <td>202</td>\n",
       "      <td>b'E\\xb8\\x00\\xc8\\x00\\x00\\x00\\x00q\\x11\\x8d&amp;\\xd9\\...</td>\n",
       "      <td>...</td>\n",
       "      <td>0.0</td>\n",
       "      <td>0.0</td>\n",
       "      <td>0</td>\n",
       "      <td>3.807355</td>\n",
       "      <td>217</td>\n",
       "      <td>217.0</td>\n",
       "      <td>217.0.5</td>\n",
       "      <td>84</td>\n",
       "      <td>84.146</td>\n",
       "      <td>84.146.135</td>\n",
       "    </tr>\n",
       "    <tr>\n",
       "      <th>16433</th>\n",
       "      <td>IP</td>\n",
       "      <td>Unknown</td>\n",
       "      <td>162.246.19.18</td>\n",
       "      <td>172.16.1.137</td>\n",
       "      <td>465</td>\n",
       "      <td>64088</td>\n",
       "      <td>40</td>\n",
       "      <td>b'E\\x00\\x00(\\xc6\\x04\\x00\\x00\\x80\\x06\\x11*\\xa2\\...</td>\n",
       "      <td>40</td>\n",
       "      <td>b'E\\x00\\x00(\\xc6\\x04\\x00\\x00\\x80\\x06\\x11*\\xa2\\...</td>\n",
       "      <td>...</td>\n",
       "      <td>0.0</td>\n",
       "      <td>0.0</td>\n",
       "      <td>0</td>\n",
       "      <td>3.921928</td>\n",
       "      <td>162</td>\n",
       "      <td>162.246</td>\n",
       "      <td>162.246.19</td>\n",
       "      <td>172</td>\n",
       "      <td>172.16</td>\n",
       "      <td>172.16.1</td>\n",
       "    </tr>\n",
       "  </tbody>\n",
       "</table>\n",
       "<p>5 rows × 27 columns</p>\n",
       "</div>"
      ],
      "text/plain": [
       "       protocol     app_layer      source_addr       dest_addr  source_port   \n",
       "10466        IP       Unknown      10.9.20.144    104.21.50.34        49790  \\\n",
       "23087  Ethernet       Unknown   84.146.135.221     217.0.5.215         7078   \n",
       "468          IP  HTTPResponse  104.223.119.167      10.1.4.101           80   \n",
       "10932  Ethernet       Unknown      217.0.5.215  84.146.135.221        15020   \n",
       "16433        IP       Unknown    162.246.19.18    172.16.1.137          465   \n",
       "\n",
       "       dest_port  proto_packet_length   \n",
       "10466         80                   40  \\\n",
       "23087       5690                  202   \n",
       "468        50046                 1428   \n",
       "10932       7078                  202   \n",
       "16433      64088                   40   \n",
       "\n",
       "                                      proto_packet_cache  ip_packet_length   \n",
       "10466  b'E\\x00\\x00(\\xe5Z@\\x00\\x80\\x06\\\\\\xa5\\n\\t\\x14\\x...                40  \\\n",
       "23087       b'<a\\x04P\\xd2\\x1a\\xc8\\x0e\\x14~3\\xa0\\x81\\x00'               202   \n",
       "468    b'E\\x00\\x05\\x94\\x03\\x01\\x00\\x00\\x80\\x06Cwh\\xdf...              1428   \n",
       "10932       b'\\xc8\\x0e\\x14~3\\xa0<a\\x04P\\xd2\\x1a\\x81\\x00'               202   \n",
       "16433  b'E\\x00\\x00(\\xc6\\x04\\x00\\x00\\x80\\x06\\x11*\\xa2\\...                40   \n",
       "\n",
       "                                         ip_packet_cache  ... host_entropy   \n",
       "10466  b'E\\x00\\x00(\\xe5Z@\\x00\\x80\\x06\\\\\\xa5\\n\\t\\x14\\x...  ...          0.0  \\\n",
       "23087  b'E\\x00\\x00\\xc8m\\xf6@\\x00@\\x11\\x10\\xe8T\\x92\\x8...  ...          0.0   \n",
       "468    b'E\\x00\\x05\\x94\\x03\\x01\\x00\\x00\\x80\\x06Cwh\\xdf...  ...          0.0   \n",
       "10932  b'E\\xb8\\x00\\xc8\\x00\\x00\\x00\\x00q\\x11\\x8d&\\xd9\\...  ...          0.0   \n",
       "16433  b'E\\x00\\x00(\\xc6\\x04\\x00\\x00\\x80\\x06\\x11*\\xa2\\...  ...          0.0   \n",
       "\n",
       "      base_domain_entropy host_length proto_packet_entropy source_ip_class_a   \n",
       "10466                 0.0           0             4.084184                10  \\\n",
       "23087                 0.0           0             3.807355                84   \n",
       "468                   0.0           0             3.884184               104   \n",
       "10932                 0.0           0             3.807355               217   \n",
       "16433                 0.0           0             3.921928               162   \n",
       "\n",
       "       source_ip_class_b  source_ip_class_c  dest_ip_class_a  dest_ip_class_b   \n",
       "10466               10.9            10.9.20              104           104.21  \\\n",
       "23087             84.146         84.146.135              217            217.0   \n",
       "468              104.223        104.223.119               10             10.1   \n",
       "10932              217.0            217.0.5               84           84.146   \n",
       "16433            162.246         162.246.19              172           172.16   \n",
       "\n",
       "       dest_ip_class_c  \n",
       "10466        104.21.50  \n",
       "23087          217.0.5  \n",
       "468             10.1.4  \n",
       "10932       84.146.135  \n",
       "16433         172.16.1  \n",
       "\n",
       "[5 rows x 27 columns]"
      ]
     },
     "execution_count": 19,
     "metadata": {},
     "output_type": "execute_result"
    }
   ],
   "source": [
    "all_df.sample(5)"
   ]
  },
  {
   "cell_type": "code",
   "execution_count": 20,
   "metadata": {},
   "outputs": [],
   "source": [
    "def prepare_df_for_ml(df: pd.DataFrame) -> pd.DataFrame:\n",
    "    df = df.copy()\n",
    "    fields = [\n",
    "        \"protocol\",\n",
    "        \"app_layer\",\n",
    "        \"source_addr\", \n",
    "        \"dest_addr\",\n",
    "        \"source_port\",\n",
    "        \"dest_port\",\n",
    "        \"proto_packet_length\",\n",
    "        \"ip_packet_length\",\n",
    "        # \"url\",\n",
    "        \"url_entropy\",\n",
    "        \"host_entropy\",\n",
    "        \"base_domain_entropy\",\n",
    "        \"host_length\",\n",
    "        \"proto_packet_entropy\",\n",
    "    ]\n",
    "    new_df = df[fields]\n",
    "    new_df.loc[:, [\"source_port\", \"dest_port\"]] = new_df[[\"source_port\", \"dest_port\", ]].astype(str)\n",
    "    new_df.loc[:, [\"ip_packet_length\", \"source_port\"]] = new_df[[\"ip_packet_length\", \"source_port\", ]].astype(float)\n",
    "        \n",
    "    return pd.get_dummies(new_df)"
   ]
  },
  {
   "cell_type": "code",
   "execution_count": 21,
   "metadata": {},
   "outputs": [],
   "source": [
    "y = all_df[\"malware\"].values\n",
    "input_values = all_df.drop(\"malware\", axis=1)\n",
    "prepped = prepare_df_for_ml(input_values)\n",
    "X = np.asarray(prepped.values).astype(\"float64\")"
   ]
  },
  {
   "cell_type": "code",
   "execution_count": 22,
   "metadata": {},
   "outputs": [
    {
     "data": {
      "text/plain": [
       "(196981,)"
      ]
     },
     "execution_count": 22,
     "metadata": {},
     "output_type": "execute_result"
    }
   ],
   "source": [
    "y.shape"
   ]
  },
  {
   "cell_type": "code",
   "execution_count": 23,
   "metadata": {},
   "outputs": [
    {
     "data": {
      "text/plain": [
       "(196981, 6057)"
      ]
     },
     "execution_count": 23,
     "metadata": {},
     "output_type": "execute_result"
    }
   ],
   "source": [
    "X.shape"
   ]
  },
  {
   "cell_type": "code",
   "execution_count": 24,
   "metadata": {},
   "outputs": [],
   "source": [
    "X_train, X_test, Y_train, Y_test = train_test_split(X, y, test_size=0.40, random_state=234)"
   ]
  },
  {
   "cell_type": "code",
   "execution_count": 25,
   "metadata": {},
   "outputs": [],
   "source": [
    "X_test, X_cv, Y_test, Y_cv = train_test_split(X_test, Y_test, test_size=0.50, random_state=33)"
   ]
  },
  {
   "cell_type": "code",
   "execution_count": 26,
   "metadata": {},
   "outputs": [
    {
     "name": "stdout",
     "output_type": "stream",
     "text": [
      "X_train.shape: (118188, 6057)\n",
      "X_test.shape: (39396, 6057)\n",
      "X_cv.shape: (39397, 6057)\n",
      "Y_train.shape: (118188,)\n",
      "Y_test.shape: (39396,)\n",
      "Y_cv.shape: (39397,)\n"
     ]
    }
   ],
   "source": [
    "print(f\"X_train.shape: {X_train.shape}\")\n",
    "print(f\"X_test.shape: {X_test.shape}\")\n",
    "print(f\"X_cv.shape: {X_cv.shape}\")\n",
    "print(f\"Y_train.shape: {Y_train.shape}\")\n",
    "print(f\"Y_test.shape: {Y_test.shape}\")\n",
    "print(f\"Y_cv.shape: {Y_cv.shape}\")\n"
   ]
  },
  {
   "cell_type": "code",
   "execution_count": 27,
   "metadata": {},
   "outputs": [],
   "source": [
    "normalizer = tf.keras.layers.Normalization(axis=-1)\n",
    "\n",
    "layer_1 = layers.Dense(units=9, input_shape=(X_train.shape[-1], ), activation=\"relu\", kernel_regularizer=L2(0.01))\n",
    "layer_2 = layers.Dense(units=15, activation=\"relu\", kernel_regularizer=L2(0.01))\n",
    "layer_3 = layers.Dense(units=1, activation=\"sigmoid\", kernel_regularizer=L2(0.01))\n",
    "\n",
    "model = keras.Sequential([\n",
    "    normalizer,\n",
    "    layer_1,\n",
    "    layer_2,\n",
    "    layer_3\n",
    "])"
   ]
  },
  {
   "cell_type": "code",
   "execution_count": 28,
   "metadata": {},
   "outputs": [],
   "source": [
    "model.compile(\n",
    "    optimizer=\"adam\",  # Optimizer\n",
    "    # Loss function to minimize\n",
    "    loss=losses.BinaryCrossentropy(),\n",
    "    metrics=[\n",
    "        tf.keras.metrics.BinaryAccuracy(),\n",
    "        tf.keras.metrics.FalseNegatives()\n",
    "    ],\n",
    ")"
   ]
  },
  {
   "cell_type": "code",
   "execution_count": 29,
   "metadata": {},
   "outputs": [
    {
     "name": "stdout",
     "output_type": "stream",
     "text": [
      "Epoch 1/10\n",
      "3694/3694 [==============================] - 15s 4ms/step - loss: 0.3199 - binary_accuracy: 0.9193 - false_negatives: 604.0000\n",
      "Epoch 2/10\n",
      "3694/3694 [==============================] - 13s 4ms/step - loss: 0.2130 - binary_accuracy: 0.9684 - false_negatives: 1117.0000\n",
      "Epoch 3/10\n",
      "3694/3694 [==============================] - 13s 4ms/step - loss: 0.2084 - binary_accuracy: 0.9685 - false_negatives: 1141.0000\n",
      "Epoch 4/10\n",
      "3694/3694 [==============================] - 13s 4ms/step - loss: 0.2007 - binary_accuracy: 0.9694 - false_negatives: 1117.0000\n",
      "Epoch 5/10\n",
      "3694/3694 [==============================] - 13s 4ms/step - loss: 0.1938 - binary_accuracy: 0.9707 - false_negatives: 1062.0000\n",
      "Epoch 6/10\n",
      "3694/3694 [==============================] - 14s 4ms/step - loss: 0.1913 - binary_accuracy: 0.9709 - false_negatives: 1026.0000\n",
      "Epoch 7/10\n",
      "3694/3694 [==============================] - 13s 4ms/step - loss: 0.1995 - binary_accuracy: 0.9699 - false_negatives: 1128.0000\n",
      "Epoch 8/10\n",
      "3694/3694 [==============================] - 13s 4ms/step - loss: 0.1850 - binary_accuracy: 0.9714 - false_negatives: 1031.0000\n",
      "Epoch 9/10\n",
      "3694/3694 [==============================] - 13s 4ms/step - loss: 0.1860 - binary_accuracy: 0.9712 - false_negatives: 1012.0000\n",
      "Epoch 10/10\n",
      "3694/3694 [==============================] - 13s 4ms/step - loss: 0.1869 - binary_accuracy: 0.9705 - false_negatives: 1082.0000\n"
     ]
    },
    {
     "data": {
      "text/plain": [
       "<keras.callbacks.History at 0x16db29c70>"
      ]
     },
     "execution_count": 29,
     "metadata": {},
     "output_type": "execute_result"
    }
   ],
   "source": [
    "model.fit(X_train, Y_train, epochs=10)"
   ]
  },
  {
   "cell_type": "code",
   "execution_count": 30,
   "metadata": {},
   "outputs": [
    {
     "name": "stdout",
     "output_type": "stream",
     "text": [
      "Evaluate on test data\n",
      "1232/1232 [==============================] - 3s 2ms/step - loss: 0.1935 - binary_accuracy: 0.9674 - false_negatives: 170.0000\n",
      "test loss, test acc: [0.19354166090488434, 0.9673570990562439, 170.0]\n"
     ]
    }
   ],
   "source": [
    "print(\"Evaluate on test data\")\n",
    "results = model.evaluate(X_test, Y_test)\n",
    "print(\"test loss, test acc:\", results)\n"
   ]
  },
  {
   "cell_type": "code",
   "execution_count": 31,
   "metadata": {},
   "outputs": [
    {
     "name": "stdout",
     "output_type": "stream",
     "text": [
      "1232/1232 [==============================] - 3s 2ms/step - loss: 0.1944 - binary_accuracy: 0.9676 - false_negatives: 164.0000\n",
      "cv loss and acc: [0.19438008964061737, 0.9676371216773987, 164.0]\n"
     ]
    }
   ],
   "source": [
    "print(f\"cv loss and acc: {model.evaluate(X_cv, Y_cv)}\")"
   ]
  },
  {
   "cell_type": "code",
   "execution_count": null,
   "metadata": {},
   "outputs": [],
   "source": []
  }
 ],
 "metadata": {
  "kernelspec": {
   "display_name": ".venv",
   "language": "python",
   "name": "python3"
  },
  "language_info": {
   "codemirror_mode": {
    "name": "ipython",
    "version": 3
   },
   "file_extension": ".py",
   "mimetype": "text/x-python",
   "name": "python",
   "nbconvert_exporter": "python",
   "pygments_lexer": "ipython3",
   "version": "3.9.13"
  },
  "orig_nbformat": 4
 },
 "nbformat": 4,
 "nbformat_minor": 2
}

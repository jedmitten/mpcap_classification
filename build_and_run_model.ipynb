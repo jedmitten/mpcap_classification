{
 "cells": [
  {
   "cell_type": "code",
   "execution_count": 2,
   "metadata": {},
   "outputs": [],
   "source": [
    "%load_ext autoreload\n",
    "%autoreload 2"
   ]
  },
  {
   "cell_type": "code",
   "execution_count": 3,
   "metadata": {},
   "outputs": [
    {
     "name": "stderr",
     "output_type": "stream",
     "text": [
      "2023-05-14 17:11:44.319484: I tensorflow/core/platform/cpu_feature_guard.cc:182] This TensorFlow binary is optimized to use available CPU instructions in performance-critical operations.\n",
      "To enable the following instructions: AVX2 FMA, in other operations, rebuild TensorFlow with the appropriate compiler flags.\n",
      "2023-05-14 17:11:46,397 ; DEBUG ; Creating converter from 7 to 5\n",
      "2023-05-14 17:11:46,397 ; DEBUG ; Creating converter from 5 to 7\n",
      "2023-05-14 17:11:46,398 ; DEBUG ; Creating converter from 7 to 5\n",
      "2023-05-14 17:11:46,399 ; DEBUG ; Creating converter from 5 to 7\n"
     ]
    }
   ],
   "source": [
    "import logging\n",
    "\n",
    "logging.basicConfig(format=\"%(asctime)s ; %(levelname)s ; %(message)s\", level=logging.DEBUG)\n",
    "logging.getLogger(\"scapy\").setLevel(logging.CRITICAL)\n",
    "logger = logging.getLogger(\"adAPT\")\n",
    "\n",
    "from typing import Tuple\n",
    "from pathlib import Path\n",
    "import tensorflow as tf\n",
    "from tensorflow.keras import layers\n",
    "from tensorflow.keras.regularizers import L2\n",
    "from tensorflow.keras import losses\n",
    "from tensorflow.keras import metrics\n",
    "from tensorflow.keras import optimizers\n",
    "from tensorflow import keras\n",
    "from sklearn.model_selection import train_test_split\n",
    "import pandas as pd\n",
    "import numpy as np\n",
    "from collections import Counter"
   ]
  },
  {
   "cell_type": "code",
   "execution_count": 4,
   "metadata": {},
   "outputs": [],
   "source": [
    "b_pkl = \"./data/benign_features.pkl\"\n",
    "m_pkl = \"./data/malicious_features.pkl\"\n",
    "\n",
    "b_df = pd.read_pickle(b_pkl)\n",
    "m_df = pd.read_pickle(m_pkl)"
   ]
  },
  {
   "cell_type": "code",
   "execution_count": 5,
   "metadata": {},
   "outputs": [],
   "source": [
    "all_df = pd.concat([b_df, m_df])"
   ]
  },
  {
   "cell_type": "code",
   "execution_count": 6,
   "metadata": {},
   "outputs": [
    {
     "data": {
      "text/html": [
       "<div>\n",
       "<style scoped>\n",
       "    .dataframe tbody tr th:only-of-type {\n",
       "        vertical-align: middle;\n",
       "    }\n",
       "\n",
       "    .dataframe tbody tr th {\n",
       "        vertical-align: top;\n",
       "    }\n",
       "\n",
       "    .dataframe thead th {\n",
       "        text-align: right;\n",
       "    }\n",
       "</style>\n",
       "<table border=\"1\" class=\"dataframe\">\n",
       "  <thead>\n",
       "    <tr style=\"text-align: right;\">\n",
       "      <th></th>\n",
       "      <th>protocol</th>\n",
       "      <th>app_layer</th>\n",
       "      <th>source_addr</th>\n",
       "      <th>dest_addr</th>\n",
       "      <th>source_port</th>\n",
       "      <th>dest_port</th>\n",
       "      <th>proto_packet_length</th>\n",
       "      <th>proto_packet_cache</th>\n",
       "      <th>ip_packet_length</th>\n",
       "      <th>ip_packet_cache</th>\n",
       "      <th>...</th>\n",
       "      <th>base_domain_entropy</th>\n",
       "      <th>host_length</th>\n",
       "      <th>proto_packet_entropy</th>\n",
       "      <th>source_ip_class_a</th>\n",
       "      <th>source_ip_class_b</th>\n",
       "      <th>source_ip_class_c</th>\n",
       "      <th>dest_ip_class_a</th>\n",
       "      <th>dest_ip_class_b</th>\n",
       "      <th>dest_ip_class_c</th>\n",
       "      <th>malware</th>\n",
       "    </tr>\n",
       "  </thead>\n",
       "  <tbody>\n",
       "    <tr>\n",
       "      <th>62431</th>\n",
       "      <td>IP</td>\n",
       "      <td>Unknown</td>\n",
       "      <td>172.16.1.137</td>\n",
       "      <td>50.87.177.214</td>\n",
       "      <td>64198</td>\n",
       "      <td>587</td>\n",
       "      <td>1500</td>\n",
       "      <td>b'E\\x00\\x05\\xdc7\\xef@\\x00\\x80\\x06+f\\xac\\x10\\x0...</td>\n",
       "      <td>1500</td>\n",
       "      <td>b'E\\x00\\x05\\xdc7\\xef@\\x00\\x80\\x06+f\\xac\\x10\\x0...</td>\n",
       "      <td>...</td>\n",
       "      <td>0.0</td>\n",
       "      <td>0</td>\n",
       "      <td>4.221928</td>\n",
       "      <td>172</td>\n",
       "      <td>172.16</td>\n",
       "      <td>172.16.1</td>\n",
       "      <td>50</td>\n",
       "      <td>50.87</td>\n",
       "      <td>50.87.177</td>\n",
       "      <td>1.0</td>\n",
       "    </tr>\n",
       "    <tr>\n",
       "      <th>8951</th>\n",
       "      <td>IP</td>\n",
       "      <td>HTTPResponse</td>\n",
       "      <td>165.22.246.219</td>\n",
       "      <td>10.3.18.101</td>\n",
       "      <td>8080</td>\n",
       "      <td>51020</td>\n",
       "      <td>71</td>\n",
       "      <td>b'E\\x00\\x00G\\x97\\xbc\\x00\\x00\\x80\\x06\\xea\\x9a\\x...</td>\n",
       "      <td>71</td>\n",
       "      <td>b'E\\x00\\x00G\\x97\\xbc\\x00\\x00\\x80\\x06\\xea\\x9a\\x...</td>\n",
       "      <td>...</td>\n",
       "      <td>0.0</td>\n",
       "      <td>0</td>\n",
       "      <td>3.921928</td>\n",
       "      <td>165</td>\n",
       "      <td>165.22</td>\n",
       "      <td>165.22.246</td>\n",
       "      <td>10</td>\n",
       "      <td>10.3</td>\n",
       "      <td>10.3.18</td>\n",
       "      <td>1.0</td>\n",
       "    </tr>\n",
       "    <tr>\n",
       "      <th>17932</th>\n",
       "      <td>IP</td>\n",
       "      <td>Unknown</td>\n",
       "      <td>51.195.169.87</td>\n",
       "      <td>10.1.11.101</td>\n",
       "      <td>8080</td>\n",
       "      <td>64823</td>\n",
       "      <td>40</td>\n",
       "      <td>b'E\\x00\\x00(7\\x14\\x00\\x00\\x80\\x06\\x11&lt;3\\xc3\\xa...</td>\n",
       "      <td>40</td>\n",
       "      <td>b'E\\x00\\x00(7\\x14\\x00\\x00\\x80\\x06\\x11&lt;3\\xc3\\xa...</td>\n",
       "      <td>...</td>\n",
       "      <td>0.0</td>\n",
       "      <td>0</td>\n",
       "      <td>3.921928</td>\n",
       "      <td>51</td>\n",
       "      <td>51.195</td>\n",
       "      <td>51.195.169</td>\n",
       "      <td>10</td>\n",
       "      <td>10.1</td>\n",
       "      <td>10.1.11</td>\n",
       "      <td>1.0</td>\n",
       "    </tr>\n",
       "    <tr>\n",
       "      <th>63661</th>\n",
       "      <td>IP</td>\n",
       "      <td>Unknown</td>\n",
       "      <td>178.128.31.80</td>\n",
       "      <td>172.16.1.137</td>\n",
       "      <td>443</td>\n",
       "      <td>64214</td>\n",
       "      <td>1500</td>\n",
       "      <td>b'E\\x00\\x05\\xdc5`\\x00\\x00\\x80\\x06\\x80R\\xb2\\x80...</td>\n",
       "      <td>1500</td>\n",
       "      <td>b'E\\x00\\x05\\xdc5`\\x00\\x00\\x80\\x06\\x80R\\xb2\\x80...</td>\n",
       "      <td>...</td>\n",
       "      <td>0.0</td>\n",
       "      <td>0</td>\n",
       "      <td>3.846439</td>\n",
       "      <td>178</td>\n",
       "      <td>178.128</td>\n",
       "      <td>178.128.31</td>\n",
       "      <td>172</td>\n",
       "      <td>172.16</td>\n",
       "      <td>172.16.1</td>\n",
       "      <td>1.0</td>\n",
       "    </tr>\n",
       "    <tr>\n",
       "      <th>13970</th>\n",
       "      <td>IP</td>\n",
       "      <td>Unknown</td>\n",
       "      <td>10.127.0.71</td>\n",
       "      <td>185.172.129.192</td>\n",
       "      <td>49825</td>\n",
       "      <td>1775</td>\n",
       "      <td>40</td>\n",
       "      <td>b\"E\\x00\\x00(\\x12v@\\x00\\x80\\x06\\xa2'\\n\\x7f\\x00G...</td>\n",
       "      <td>40</td>\n",
       "      <td>b\"E\\x00\\x00(\\x12v@\\x00\\x80\\x06\\xa2'\\n\\x7f\\x00G...</td>\n",
       "      <td>...</td>\n",
       "      <td>0.0</td>\n",
       "      <td>0</td>\n",
       "      <td>3.921928</td>\n",
       "      <td>10</td>\n",
       "      <td>10.127</td>\n",
       "      <td>10.127.0</td>\n",
       "      <td>185</td>\n",
       "      <td>185.172</td>\n",
       "      <td>185.172.129</td>\n",
       "      <td>1.0</td>\n",
       "    </tr>\n",
       "  </tbody>\n",
       "</table>\n",
       "<p>5 rows × 27 columns</p>\n",
       "</div>"
      ],
      "text/plain": [
       "      protocol     app_layer     source_addr        dest_addr  source_port   \n",
       "62431       IP       Unknown    172.16.1.137    50.87.177.214        64198  \\\n",
       "8951        IP  HTTPResponse  165.22.246.219      10.3.18.101         8080   \n",
       "17932       IP       Unknown   51.195.169.87      10.1.11.101         8080   \n",
       "63661       IP       Unknown   178.128.31.80     172.16.1.137          443   \n",
       "13970       IP       Unknown     10.127.0.71  185.172.129.192        49825   \n",
       "\n",
       "       dest_port  proto_packet_length   \n",
       "62431        587                 1500  \\\n",
       "8951       51020                   71   \n",
       "17932      64823                   40   \n",
       "63661      64214                 1500   \n",
       "13970       1775                   40   \n",
       "\n",
       "                                      proto_packet_cache  ip_packet_length   \n",
       "62431  b'E\\x00\\x05\\xdc7\\xef@\\x00\\x80\\x06+f\\xac\\x10\\x0...              1500  \\\n",
       "8951   b'E\\x00\\x00G\\x97\\xbc\\x00\\x00\\x80\\x06\\xea\\x9a\\x...                71   \n",
       "17932  b'E\\x00\\x00(7\\x14\\x00\\x00\\x80\\x06\\x11<3\\xc3\\xa...                40   \n",
       "63661  b'E\\x00\\x05\\xdc5`\\x00\\x00\\x80\\x06\\x80R\\xb2\\x80...              1500   \n",
       "13970  b\"E\\x00\\x00(\\x12v@\\x00\\x80\\x06\\xa2'\\n\\x7f\\x00G...                40   \n",
       "\n",
       "                                         ip_packet_cache  ...   \n",
       "62431  b'E\\x00\\x05\\xdc7\\xef@\\x00\\x80\\x06+f\\xac\\x10\\x0...  ...  \\\n",
       "8951   b'E\\x00\\x00G\\x97\\xbc\\x00\\x00\\x80\\x06\\xea\\x9a\\x...  ...   \n",
       "17932  b'E\\x00\\x00(7\\x14\\x00\\x00\\x80\\x06\\x11<3\\xc3\\xa...  ...   \n",
       "63661  b'E\\x00\\x05\\xdc5`\\x00\\x00\\x80\\x06\\x80R\\xb2\\x80...  ...   \n",
       "13970  b\"E\\x00\\x00(\\x12v@\\x00\\x80\\x06\\xa2'\\n\\x7f\\x00G...  ...   \n",
       "\n",
       "      base_domain_entropy host_length proto_packet_entropy source_ip_class_a   \n",
       "62431                 0.0           0             4.221928               172  \\\n",
       "8951                  0.0           0             3.921928               165   \n",
       "17932                 0.0           0             3.921928                51   \n",
       "63661                 0.0           0             3.846439               178   \n",
       "13970                 0.0           0             3.921928                10   \n",
       "\n",
       "      source_ip_class_b  source_ip_class_c  dest_ip_class_a  dest_ip_class_b   \n",
       "62431            172.16           172.16.1               50            50.87  \\\n",
       "8951             165.22         165.22.246               10             10.3   \n",
       "17932            51.195         51.195.169               10             10.1   \n",
       "63661           178.128         178.128.31              172           172.16   \n",
       "13970            10.127           10.127.0              185          185.172   \n",
       "\n",
       "       dest_ip_class_c  malware  \n",
       "62431        50.87.177      1.0  \n",
       "8951           10.3.18      1.0  \n",
       "17932          10.1.11      1.0  \n",
       "63661         172.16.1      1.0  \n",
       "13970      185.172.129      1.0  \n",
       "\n",
       "[5 rows x 27 columns]"
      ]
     },
     "execution_count": 6,
     "metadata": {},
     "output_type": "execute_result"
    }
   ],
   "source": [
    "all_df.sample(5)"
   ]
  },
  {
   "cell_type": "code",
   "execution_count": 7,
   "metadata": {},
   "outputs": [],
   "source": [
    "def prepare_df_for_ml(df: pd.DataFrame) -> pd.DataFrame:\n",
    "    df = df.copy()\n",
    "    fields = [\n",
    "        \"protocol\",\n",
    "        \"app_layer\",\n",
    "        \"source_port\",\n",
    "        \"dest_port\",\n",
    "        \"proto_packet_length\",\n",
    "        \"ip_packet_length\",\n",
    "        # \"url\",\n",
    "        \"base_domain\",\n",
    "        \"tld\",\n",
    "        \"url_entropy\",\n",
    "        \"host_entropy\",\n",
    "        \"base_domain_entropy\",\n",
    "        \"host_length\",\n",
    "        \"proto_packet_entropy\",\n",
    "        \"source_ip_class_a\",\n",
    "        \"source_ip_class_b\",\n",
    "        \"source_ip_class_c\",\n",
    "        \"dest_ip_class_a\",\n",
    "        \"dest_ip_class_b\",\n",
    "        \"dest_ip_class_c\",\n",
    "    ]\n",
    "    new_df = df[fields]\n",
    "    new_df.loc[:, [\"source_port\", \"dest_port\"]] = new_df[\n",
    "        [\n",
    "            \"source_port\",\n",
    "            \"dest_port\",\n",
    "        ]\n",
    "    ].astype(str)\n",
    "    new_df.loc[:, [\"ip_packet_length\", \"source_port\"]] = new_df[\n",
    "        [\n",
    "            \"ip_packet_length\",\n",
    "            \"source_port\",\n",
    "        ]\n",
    "    ].astype(float)\n",
    "\n",
    "    return pd.get_dummies(new_df)"
   ]
  },
  {
   "cell_type": "code",
   "execution_count": 8,
   "metadata": {},
   "outputs": [],
   "source": [
    "y = all_df[\"malware\"].values\n",
    "input_values = all_df.drop(\"malware\", axis=1)\n",
    "prepped = prepare_df_for_ml(input_values)\n",
    "X = np.asarray(prepped.values).astype(\"float64\")"
   ]
  },
  {
   "cell_type": "code",
   "execution_count": 9,
   "metadata": {},
   "outputs": [
    {
     "data": {
      "text/plain": [
       "(196981,)"
      ]
     },
     "execution_count": 9,
     "metadata": {},
     "output_type": "execute_result"
    }
   ],
   "source": [
    "y.shape"
   ]
  },
  {
   "cell_type": "code",
   "execution_count": 10,
   "metadata": {},
   "outputs": [
    {
     "data": {
      "text/plain": [
       "(196981, 6867)"
      ]
     },
     "execution_count": 10,
     "metadata": {},
     "output_type": "execute_result"
    }
   ],
   "source": [
    "X.shape"
   ]
  },
  {
   "cell_type": "code",
   "execution_count": 11,
   "metadata": {},
   "outputs": [],
   "source": [
    "X_train, X_test, Y_train, Y_test = train_test_split(X, y, test_size=0.40, random_state=234)"
   ]
  },
  {
   "cell_type": "code",
   "execution_count": 12,
   "metadata": {},
   "outputs": [],
   "source": [
    "X_test, X_cv, Y_test, Y_cv = train_test_split(X_test, Y_test, test_size=0.50, random_state=33)"
   ]
  },
  {
   "cell_type": "code",
   "execution_count": 13,
   "metadata": {},
   "outputs": [
    {
     "name": "stdout",
     "output_type": "stream",
     "text": [
      "X_train.shape: (118188, 6867)\n",
      "X_test.shape: (39396, 6867)\n",
      "X_cv.shape: (39397, 6867)\n",
      "Y_train.shape: (118188,)\n",
      "Y_test.shape: (39396,)\n",
      "Y_cv.shape: (39397,)\n"
     ]
    }
   ],
   "source": [
    "print(f\"X_train.shape: {X_train.shape}\")\n",
    "print(f\"X_test.shape: {X_test.shape}\")\n",
    "print(f\"X_cv.shape: {X_cv.shape}\")\n",
    "print(f\"Y_train.shape: {Y_train.shape}\")\n",
    "print(f\"Y_test.shape: {Y_test.shape}\")\n",
    "print(f\"Y_cv.shape: {Y_cv.shape}\")"
   ]
  },
  {
   "cell_type": "code",
   "execution_count": 14,
   "metadata": {},
   "outputs": [],
   "source": [
    "normalizer = tf.keras.layers.Normalization(axis=-1)\n",
    "\n",
    "layer_1 = layers.Dense(units=9, input_shape=(X_train.shape[-1],), activation=\"relu\", kernel_regularizer=L2(0.01))\n",
    "layer_2 = layers.Dense(units=15, activation=\"relu\", kernel_regularizer=L2(0.01))\n",
    "layer_3 = layers.Dense(units=1, activation=\"sigmoid\", kernel_regularizer=L2(0.01))\n",
    "\n",
    "model = keras.Sequential([normalizer, layer_1, layer_2, layer_3])"
   ]
  },
  {
   "cell_type": "code",
   "execution_count": 15,
   "metadata": {},
   "outputs": [],
   "source": [
    "model.compile(\n",
    "    optimizer=\"adam\",  # Optimizer\n",
    "    # Loss function to minimize\n",
    "    loss=losses.BinaryCrossentropy(),\n",
    "    metrics=[tf.keras.metrics.BinaryAccuracy(), tf.keras.metrics.FalseNegatives()],\n",
    ")"
   ]
  },
  {
   "cell_type": "code",
   "execution_count": 16,
   "metadata": {},
   "outputs": [
    {
     "name": "stdout",
     "output_type": "stream",
     "text": [
      "Epoch 1/10\n",
      "3694/3694 [==============================] - 15s 4ms/step - loss: 0.1982 - binary_accuracy: 0.9729 - false_negatives: 745.0000\n",
      "Epoch 2/10\n",
      "3694/3694 [==============================] - 12s 3ms/step - loss: 0.1604 - binary_accuracy: 0.9865 - false_negatives: 276.0000\n",
      "Epoch 3/10\n",
      "3694/3694 [==============================] - 12s 3ms/step - loss: 0.1453 - binary_accuracy: 0.9881 - false_negatives: 206.0000\n",
      "Epoch 4/10\n",
      "3694/3694 [==============================] - 12s 3ms/step - loss: 0.1376 - binary_accuracy: 0.9893 - false_negatives: 162.0000\n",
      "Epoch 5/10\n",
      "3694/3694 [==============================] - 12s 3ms/step - loss: 0.1368 - binary_accuracy: 0.9893 - false_negatives: 173.0000\n",
      "Epoch 6/10\n",
      "3694/3694 [==============================] - 12s 3ms/step - loss: 0.1347 - binary_accuracy: 0.9893 - false_negatives: 157.0000\n",
      "Epoch 7/10\n",
      "3694/3694 [==============================] - 12s 3ms/step - loss: 0.1303 - binary_accuracy: 0.9897 - false_negatives: 147.0000\n",
      "Epoch 8/10\n",
      "3694/3694 [==============================] - 12s 3ms/step - loss: 0.1266 - binary_accuracy: 0.9906 - false_negatives: 129.0000\n",
      "Epoch 9/10\n",
      "3694/3694 [==============================] - 12s 3ms/step - loss: 0.1273 - binary_accuracy: 0.9907 - false_negatives: 137.0000\n",
      "Epoch 10/10\n",
      "3694/3694 [==============================] - 12s 3ms/step - loss: 0.1258 - binary_accuracy: 0.9908 - false_negatives: 114.0000\n"
     ]
    },
    {
     "data": {
      "text/plain": [
       "<keras.callbacks.History at 0x16fcbdcd0>"
      ]
     },
     "execution_count": 16,
     "metadata": {},
     "output_type": "execute_result"
    }
   ],
   "source": [
    "model.fit(X_train, Y_train, epochs=10)"
   ]
  },
  {
   "cell_type": "code",
   "execution_count": 17,
   "metadata": {},
   "outputs": [
    {
     "name": "stdout",
     "output_type": "stream",
     "text": [
      "Evaluate on test data\n",
      "1232/1232 [==============================] - 3s 2ms/step - loss: 0.1132 - binary_accuracy: 0.9932 - false_negatives: 16.0000\n",
      "test loss, test acc: [0.11317555606365204, 0.9931718707084656, 16.0]\n"
     ]
    }
   ],
   "source": [
    "print(\"Evaluate on test data\")\n",
    "results = model.evaluate(X_test, Y_test)\n",
    "print(\"test loss, test acc:\", results)"
   ]
  },
  {
   "cell_type": "code",
   "execution_count": 18,
   "metadata": {},
   "outputs": [
    {
     "name": "stdout",
     "output_type": "stream",
     "text": [
      "Evaluate on Cross Validation data\n",
      "1232/1232 [==============================] - 3s 2ms/step - loss: 0.1128 - binary_accuracy: 0.9936 - false_negatives: 14.0000\n",
      "cv loss and acc: [0.11276879906654358, 0.9936035871505737, 14.0]\n"
     ]
    }
   ],
   "source": [
    "print(\"Evaluate on Cross Validation data\")\n",
    "results_cv = model.evaluate(X_cv, Y_cv)\n",
    "print(f\"cv loss and acc: {results_cv}\")"
   ]
  },
  {
   "cell_type": "code",
   "execution_count": 19,
   "metadata": {},
   "outputs": [
    {
     "name": "stdout",
     "output_type": "stream",
     "text": [
      "Evaluate on full data set\n",
      "6156/6156 [==============================] - 20s 3ms/step - loss: 0.1137 - binary_accuracy: 0.9931 - false_negatives: 86.0000\n",
      "cv loss and acc: [0.11373991519212723, 0.993146538734436, 86.0]\n"
     ]
    }
   ],
   "source": [
    "print(\"Evaluate on full data set\")\n",
    "results_full = model.evaluate(X, y)\n",
    "print(f\"cv loss and acc: {results_full}\")"
   ]
  },
  {
   "cell_type": "code",
   "execution_count": null,
   "metadata": {},
   "outputs": [],
   "source": []
  }
 ],
 "metadata": {
  "kernelspec": {
   "display_name": ".venv",
   "language": "python",
   "name": "python3"
  },
  "language_info": {
   "codemirror_mode": {
    "name": "ipython",
    "version": 3
   },
   "file_extension": ".py",
   "mimetype": "text/x-python",
   "name": "python",
   "nbconvert_exporter": "python",
   "pygments_lexer": "ipython3",
   "version": "3.9.13"
  },
  "orig_nbformat": 4
 },
 "nbformat": 4,
 "nbformat_minor": 2
}

{
 "cells": [
  {
   "cell_type": "code",
   "execution_count": 1,
   "metadata": {},
   "outputs": [],
   "source": [
    "%load_ext autoreload\n",
    "%autoreload 2\n"
   ]
  },
  {
   "cell_type": "code",
   "execution_count": 2,
   "metadata": {},
   "outputs": [
    {
     "name": "stderr",
     "output_type": "stream",
     "text": [
      "2023-05-12 22:51:08.199775: I tensorflow/core/platform/cpu_feature_guard.cc:182] This TensorFlow binary is optimized to use available CPU instructions in performance-critical operations.\n",
      "To enable the following instructions: AVX2 FMA, in other operations, rebuild TensorFlow with the appropriate compiler flags.\n",
      "2023-05-12 22:51:17,011 ; DEBUG ; Creating converter from 7 to 5\n",
      "2023-05-12 22:51:17,012 ; DEBUG ; Creating converter from 5 to 7\n",
      "2023-05-12 22:51:17,013 ; DEBUG ; Creating converter from 7 to 5\n",
      "2023-05-12 22:51:17,014 ; DEBUG ; Creating converter from 5 to 7\n"
     ]
    }
   ],
   "source": [
    "import logging\n",
    "\n",
    "logging.basicConfig(\n",
    "    format=\"%(asctime)s ; %(levelname)s ; %(message)s\",\n",
    "    level=logging.DEBUG\n",
    ")\n",
    "logging.getLogger(\"scapy\").setLevel(logging.CRITICAL)\n",
    "logger = logging.getLogger(\"adAPT\")\n",
    "\n",
    "from typing import Tuple\n",
    "from pathlib import Path\n",
    "import tensorflow as tf\n",
    "from tensorflow.keras import layers\n",
    "from tensorflow.keras.regularizers import L2\n",
    "from tensorflow.keras import losses\n",
    "from tensorflow.keras import metrics\n",
    "from tensorflow.keras import optimizers\n",
    "from tensorflow import keras\n",
    "from sklearn.model_selection import train_test_split\n",
    "import pandas as pd\n",
    "import numpy as np\n",
    "from collections import Counter\n"
   ]
  },
  {
   "cell_type": "code",
   "execution_count": 3,
   "metadata": {},
   "outputs": [],
   "source": [
    "b_pkl = \"./data/benign_features.pkl\"\n",
    "m_pkl = \"./data/malicious_features.pkl\"\n",
    "\n",
    "b_df = pd.read_pickle(b_pkl)\n",
    "m_df = pd.read_pickle(m_pkl)\n"
   ]
  },
  {
   "cell_type": "code",
   "execution_count": 4,
   "metadata": {},
   "outputs": [],
   "source": [
    "all_df = pd.concat([b_df, m_df])"
   ]
  },
  {
   "cell_type": "code",
   "execution_count": 5,
   "metadata": {},
   "outputs": [
    {
     "data": {
      "text/html": [
       "<div>\n",
       "<style scoped>\n",
       "    .dataframe tbody tr th:only-of-type {\n",
       "        vertical-align: middle;\n",
       "    }\n",
       "\n",
       "    .dataframe tbody tr th {\n",
       "        vertical-align: top;\n",
       "    }\n",
       "\n",
       "    .dataframe thead th {\n",
       "        text-align: right;\n",
       "    }\n",
       "</style>\n",
       "<table border=\"1\" class=\"dataframe\">\n",
       "  <thead>\n",
       "    <tr style=\"text-align: right;\">\n",
       "      <th></th>\n",
       "      <th>protocol</th>\n",
       "      <th>app_layer</th>\n",
       "      <th>source_addr</th>\n",
       "      <th>dest_addr</th>\n",
       "      <th>source_port</th>\n",
       "      <th>dest_port</th>\n",
       "      <th>proto_packet_length</th>\n",
       "      <th>proto_packet_cache</th>\n",
       "      <th>ip_packet_length</th>\n",
       "      <th>ip_packet_cache</th>\n",
       "      <th>...</th>\n",
       "      <th>base_domain_entropy</th>\n",
       "      <th>host_length</th>\n",
       "      <th>proto_packet_entropy</th>\n",
       "      <th>source_ip_class_a</th>\n",
       "      <th>source_ip_class_b</th>\n",
       "      <th>source_ip_class_c</th>\n",
       "      <th>dest_ip_class_a</th>\n",
       "      <th>dest_ip_class_b</th>\n",
       "      <th>dest_ip_class_c</th>\n",
       "      <th>malware</th>\n",
       "    </tr>\n",
       "  </thead>\n",
       "  <tbody>\n",
       "    <tr>\n",
       "      <th>8990</th>\n",
       "      <td>IP</td>\n",
       "      <td>Unknown</td>\n",
       "      <td>51.195.169.87</td>\n",
       "      <td>10.1.11.101</td>\n",
       "      <td>8080</td>\n",
       "      <td>64823</td>\n",
       "      <td>40</td>\n",
       "      <td>b'E\\x00\\x00(%[\\x00\\x00\\x80\\x06\"\\xf53\\xc3\\xa9W\\...</td>\n",
       "      <td>40</td>\n",
       "      <td>b'E\\x00\\x00(%[\\x00\\x00\\x80\\x06\"\\xf53\\xc3\\xa9W\\...</td>\n",
       "      <td>...</td>\n",
       "      <td>0.0</td>\n",
       "      <td>0</td>\n",
       "      <td>3.921928</td>\n",
       "      <td>51</td>\n",
       "      <td>51.195</td>\n",
       "      <td>51.195.169</td>\n",
       "      <td>10</td>\n",
       "      <td>10.1</td>\n",
       "      <td>10.1.11</td>\n",
       "      <td>1.0</td>\n",
       "    </tr>\n",
       "    <tr>\n",
       "      <th>48305</th>\n",
       "      <td>IP</td>\n",
       "      <td>Unknown</td>\n",
       "      <td>162.215.96.249</td>\n",
       "      <td>172.16.1.137</td>\n",
       "      <td>465</td>\n",
       "      <td>64176</td>\n",
       "      <td>40</td>\n",
       "      <td>b'E\\x00\\x00(\\n\\xfa\\x00\\x00\\x80\\x06~l\\xa2\\xd7`\\...</td>\n",
       "      <td>40</td>\n",
       "      <td>b'E\\x00\\x00(\\n\\xfa\\x00\\x00\\x80\\x06~l\\xa2\\xd7`\\...</td>\n",
       "      <td>...</td>\n",
       "      <td>0.0</td>\n",
       "      <td>0</td>\n",
       "      <td>3.921928</td>\n",
       "      <td>162</td>\n",
       "      <td>162.215</td>\n",
       "      <td>162.215.96</td>\n",
       "      <td>172</td>\n",
       "      <td>172.16</td>\n",
       "      <td>172.16.1</td>\n",
       "      <td>1.0</td>\n",
       "    </tr>\n",
       "    <tr>\n",
       "      <th>3596</th>\n",
       "      <td>IP</td>\n",
       "      <td>Unknown</td>\n",
       "      <td>10.12.7.101</td>\n",
       "      <td>139.177.146.137</td>\n",
       "      <td>50113</td>\n",
       "      <td>443</td>\n",
       "      <td>193</td>\n",
       "      <td>b'E\\x00\\x00\\xc1\\x84\\xe5@\\x00\\x80\\x06E\\xa6\\n\\x0...</td>\n",
       "      <td>193</td>\n",
       "      <td>b'E\\x00\\x00\\xc1\\x84\\xe5@\\x00\\x80\\x06E\\xa6\\n\\x0...</td>\n",
       "      <td>...</td>\n",
       "      <td>0.0</td>\n",
       "      <td>0</td>\n",
       "      <td>3.984184</td>\n",
       "      <td>10</td>\n",
       "      <td>10.12</td>\n",
       "      <td>10.12.7</td>\n",
       "      <td>139</td>\n",
       "      <td>139.177</td>\n",
       "      <td>139.177.146</td>\n",
       "      <td>1.0</td>\n",
       "    </tr>\n",
       "    <tr>\n",
       "      <th>26313</th>\n",
       "      <td>IP</td>\n",
       "      <td>Unknown</td>\n",
       "      <td>182.162.143.56</td>\n",
       "      <td>172.16.1.137</td>\n",
       "      <td>443</td>\n",
       "      <td>64110</td>\n",
       "      <td>1416</td>\n",
       "      <td>b'E\\x00\\x05\\x88\\xdb\\x18\\x00\\x00\\x80\\x06f\\xe3\\x...</td>\n",
       "      <td>1416</td>\n",
       "      <td>b'E\\x00\\x05\\x88\\xdb\\x18\\x00\\x00\\x80\\x06f\\xe3\\x...</td>\n",
       "      <td>...</td>\n",
       "      <td>0.0</td>\n",
       "      <td>0</td>\n",
       "      <td>4.084184</td>\n",
       "      <td>182</td>\n",
       "      <td>182.162</td>\n",
       "      <td>182.162.143</td>\n",
       "      <td>172</td>\n",
       "      <td>172.16</td>\n",
       "      <td>172.16.1</td>\n",
       "      <td>1.0</td>\n",
       "    </tr>\n",
       "    <tr>\n",
       "      <th>14606</th>\n",
       "      <td>IP</td>\n",
       "      <td>HTTPResponse</td>\n",
       "      <td>178.62.112.199</td>\n",
       "      <td>10.3.18.101</td>\n",
       "      <td>8080</td>\n",
       "      <td>51292</td>\n",
       "      <td>1500</td>\n",
       "      <td>b'E\\x00\\x05\\xdc\\xa3u\\x00\\x00\\x80\\x06R9\\xb2&gt;p\\x...</td>\n",
       "      <td>1500</td>\n",
       "      <td>b'E\\x00\\x05\\xdc\\xa3u\\x00\\x00\\x80\\x06R9\\xb2&gt;p\\x...</td>\n",
       "      <td>...</td>\n",
       "      <td>0.0</td>\n",
       "      <td>0</td>\n",
       "      <td>4.084184</td>\n",
       "      <td>178</td>\n",
       "      <td>178.62</td>\n",
       "      <td>178.62.112</td>\n",
       "      <td>10</td>\n",
       "      <td>10.3</td>\n",
       "      <td>10.3.18</td>\n",
       "      <td>1.0</td>\n",
       "    </tr>\n",
       "  </tbody>\n",
       "</table>\n",
       "<p>5 rows × 27 columns</p>\n",
       "</div>"
      ],
      "text/plain": [
       "      protocol     app_layer     source_addr        dest_addr  source_port   \n",
       "8990        IP       Unknown   51.195.169.87      10.1.11.101         8080  \\\n",
       "48305       IP       Unknown  162.215.96.249     172.16.1.137          465   \n",
       "3596        IP       Unknown     10.12.7.101  139.177.146.137        50113   \n",
       "26313       IP       Unknown  182.162.143.56     172.16.1.137          443   \n",
       "14606       IP  HTTPResponse  178.62.112.199      10.3.18.101         8080   \n",
       "\n",
       "       dest_port  proto_packet_length   \n",
       "8990       64823                   40  \\\n",
       "48305      64176                   40   \n",
       "3596         443                  193   \n",
       "26313      64110                 1416   \n",
       "14606      51292                 1500   \n",
       "\n",
       "                                      proto_packet_cache  ip_packet_length   \n",
       "8990   b'E\\x00\\x00(%[\\x00\\x00\\x80\\x06\"\\xf53\\xc3\\xa9W\\...                40  \\\n",
       "48305  b'E\\x00\\x00(\\n\\xfa\\x00\\x00\\x80\\x06~l\\xa2\\xd7`\\...                40   \n",
       "3596   b'E\\x00\\x00\\xc1\\x84\\xe5@\\x00\\x80\\x06E\\xa6\\n\\x0...               193   \n",
       "26313  b'E\\x00\\x05\\x88\\xdb\\x18\\x00\\x00\\x80\\x06f\\xe3\\x...              1416   \n",
       "14606  b'E\\x00\\x05\\xdc\\xa3u\\x00\\x00\\x80\\x06R9\\xb2>p\\x...              1500   \n",
       "\n",
       "                                         ip_packet_cache  ...   \n",
       "8990   b'E\\x00\\x00(%[\\x00\\x00\\x80\\x06\"\\xf53\\xc3\\xa9W\\...  ...  \\\n",
       "48305  b'E\\x00\\x00(\\n\\xfa\\x00\\x00\\x80\\x06~l\\xa2\\xd7`\\...  ...   \n",
       "3596   b'E\\x00\\x00\\xc1\\x84\\xe5@\\x00\\x80\\x06E\\xa6\\n\\x0...  ...   \n",
       "26313  b'E\\x00\\x05\\x88\\xdb\\x18\\x00\\x00\\x80\\x06f\\xe3\\x...  ...   \n",
       "14606  b'E\\x00\\x05\\xdc\\xa3u\\x00\\x00\\x80\\x06R9\\xb2>p\\x...  ...   \n",
       "\n",
       "      base_domain_entropy host_length proto_packet_entropy source_ip_class_a   \n",
       "8990                  0.0           0             3.921928                51  \\\n",
       "48305                 0.0           0             3.921928               162   \n",
       "3596                  0.0           0             3.984184                10   \n",
       "26313                 0.0           0             4.084184               182   \n",
       "14606                 0.0           0             4.084184               178   \n",
       "\n",
       "      source_ip_class_b  source_ip_class_c  dest_ip_class_a  dest_ip_class_b   \n",
       "8990             51.195         51.195.169               10             10.1  \\\n",
       "48305           162.215         162.215.96              172           172.16   \n",
       "3596              10.12            10.12.7              139          139.177   \n",
       "26313           182.162        182.162.143              172           172.16   \n",
       "14606            178.62         178.62.112               10             10.3   \n",
       "\n",
       "       dest_ip_class_c  malware  \n",
       "8990           10.1.11      1.0  \n",
       "48305         172.16.1      1.0  \n",
       "3596       139.177.146      1.0  \n",
       "26313         172.16.1      1.0  \n",
       "14606          10.3.18      1.0  \n",
       "\n",
       "[5 rows x 27 columns]"
      ]
     },
     "execution_count": 5,
     "metadata": {},
     "output_type": "execute_result"
    }
   ],
   "source": [
    "all_df.sample(5)"
   ]
  },
  {
   "cell_type": "code",
   "execution_count": 7,
   "metadata": {},
   "outputs": [],
   "source": [
    "def prepare_df_for_ml(df: pd.DataFrame) -> pd.DataFrame:\n",
    "    df = df.copy()\n",
    "    fields = [\n",
    "        \"protocol\",\n",
    "        \"app_layer\",\n",
    "        \"source_addr\", \n",
    "        \"dest_addr\",\n",
    "        \"source_port\",\n",
    "        \"dest_port\",\n",
    "        \"proto_packet_length\",\n",
    "        \"ip_packet_length\",\n",
    "        # \"url\",\n",
    "        \"url_entropy\",\n",
    "        \"host_entropy\",\n",
    "        \"base_domain_entropy\",\n",
    "        \"host_length\",\n",
    "        \"proto_packet_entropy\",\n",
    "    ]\n",
    "    new_df = df[fields]\n",
    "    new_df.loc[:, [\"source_port\", \"dest_port\"]] = new_df[[\"source_port\", \"dest_port\", ]].astype(str)\n",
    "    new_df.loc[:, [\"ip_packet_length\", \"source_port\"]] = new_df[[\"ip_packet_length\", \"source_port\", ]].astype(float)\n",
    "        \n",
    "    return pd.get_dummies(new_df)"
   ]
  },
  {
   "cell_type": "code",
   "execution_count": 8,
   "metadata": {},
   "outputs": [],
   "source": [
    "y = all_df[\"malware\"].values\n",
    "input_values = all_df.drop(\"malware\", axis=1)\n",
    "prepped = prepare_df_for_ml(input_values)\n",
    "X = np.asarray(prepped.values).astype(\"float64\")"
   ]
  },
  {
   "cell_type": "code",
   "execution_count": null,
   "metadata": {},
   "outputs": [
    {
     "data": {
      "text/plain": [
       "(196981,)"
      ]
     },
     "execution_count": 22,
     "metadata": {},
     "output_type": "execute_result"
    }
   ],
   "source": [
    "y.shape"
   ]
  },
  {
   "cell_type": "code",
   "execution_count": null,
   "metadata": {},
   "outputs": [
    {
     "data": {
      "text/plain": [
       "(196981, 6057)"
      ]
     },
     "execution_count": 23,
     "metadata": {},
     "output_type": "execute_result"
    }
   ],
   "source": [
    "X.shape"
   ]
  },
  {
   "cell_type": "code",
   "execution_count": null,
   "metadata": {},
   "outputs": [],
   "source": [
    "X_train, X_test, Y_train, Y_test = train_test_split(X, y, test_size=0.40, random_state=234)"
   ]
  },
  {
   "cell_type": "code",
   "execution_count": null,
   "metadata": {},
   "outputs": [],
   "source": [
    "X_test, X_cv, Y_test, Y_cv = train_test_split(X_test, Y_test, test_size=0.50, random_state=33)"
   ]
  },
  {
   "cell_type": "code",
   "execution_count": null,
   "metadata": {},
   "outputs": [
    {
     "name": "stdout",
     "output_type": "stream",
     "text": [
      "X_train.shape: (118188, 6057)\n",
      "X_test.shape: (39396, 6057)\n",
      "X_cv.shape: (39397, 6057)\n",
      "Y_train.shape: (118188,)\n",
      "Y_test.shape: (39396,)\n",
      "Y_cv.shape: (39397,)\n"
     ]
    }
   ],
   "source": [
    "print(f\"X_train.shape: {X_train.shape}\")\n",
    "print(f\"X_test.shape: {X_test.shape}\")\n",
    "print(f\"X_cv.shape: {X_cv.shape}\")\n",
    "print(f\"Y_train.shape: {Y_train.shape}\")\n",
    "print(f\"Y_test.shape: {Y_test.shape}\")\n",
    "print(f\"Y_cv.shape: {Y_cv.shape}\")\n"
   ]
  },
  {
   "cell_type": "code",
   "execution_count": null,
   "metadata": {},
   "outputs": [],
   "source": [
    "normalizer = tf.keras.layers.Normalization(axis=-1)\n",
    "\n",
    "layer_1 = layers.Dense(units=9, input_shape=(X_train.shape[-1], ), activation=\"relu\", kernel_regularizer=L2(0.01))\n",
    "layer_2 = layers.Dense(units=15, activation=\"relu\", kernel_regularizer=L2(0.01))\n",
    "layer_3 = layers.Dense(units=1, activation=\"sigmoid\", kernel_regularizer=L2(0.01))\n",
    "\n",
    "model = keras.Sequential([\n",
    "    normalizer,\n",
    "    layer_1,\n",
    "    layer_2,\n",
    "    layer_3\n",
    "])"
   ]
  },
  {
   "cell_type": "code",
   "execution_count": null,
   "metadata": {},
   "outputs": [],
   "source": [
    "model.compile(\n",
    "    optimizer=\"adam\",  # Optimizer\n",
    "    # Loss function to minimize\n",
    "    loss=losses.BinaryCrossentropy(),\n",
    "    metrics=[\n",
    "        tf.keras.metrics.BinaryAccuracy(),\n",
    "        tf.keras.metrics.FalseNegatives()\n",
    "    ],\n",
    ")"
   ]
  },
  {
   "cell_type": "code",
   "execution_count": null,
   "metadata": {},
   "outputs": [
    {
     "name": "stdout",
     "output_type": "stream",
     "text": [
      "Epoch 1/10\n",
      "3694/3694 [==============================] - 15s 4ms/step - loss: 0.3199 - binary_accuracy: 0.9193 - false_negatives: 604.0000\n",
      "Epoch 2/10\n",
      "3694/3694 [==============================] - 13s 4ms/step - loss: 0.2130 - binary_accuracy: 0.9684 - false_negatives: 1117.0000\n",
      "Epoch 3/10\n",
      "3694/3694 [==============================] - 13s 4ms/step - loss: 0.2084 - binary_accuracy: 0.9685 - false_negatives: 1141.0000\n",
      "Epoch 4/10\n",
      "3694/3694 [==============================] - 13s 4ms/step - loss: 0.2007 - binary_accuracy: 0.9694 - false_negatives: 1117.0000\n",
      "Epoch 5/10\n",
      "3694/3694 [==============================] - 13s 4ms/step - loss: 0.1938 - binary_accuracy: 0.9707 - false_negatives: 1062.0000\n",
      "Epoch 6/10\n",
      "3694/3694 [==============================] - 14s 4ms/step - loss: 0.1913 - binary_accuracy: 0.9709 - false_negatives: 1026.0000\n",
      "Epoch 7/10\n",
      "3694/3694 [==============================] - 13s 4ms/step - loss: 0.1995 - binary_accuracy: 0.9699 - false_negatives: 1128.0000\n",
      "Epoch 8/10\n",
      "3694/3694 [==============================] - 13s 4ms/step - loss: 0.1850 - binary_accuracy: 0.9714 - false_negatives: 1031.0000\n",
      "Epoch 9/10\n",
      "3694/3694 [==============================] - 13s 4ms/step - loss: 0.1860 - binary_accuracy: 0.9712 - false_negatives: 1012.0000\n",
      "Epoch 10/10\n",
      "3694/3694 [==============================] - 13s 4ms/step - loss: 0.1869 - binary_accuracy: 0.9705 - false_negatives: 1082.0000\n"
     ]
    },
    {
     "data": {
      "text/plain": [
       "<keras.callbacks.History at 0x16db29c70>"
      ]
     },
     "execution_count": 29,
     "metadata": {},
     "output_type": "execute_result"
    }
   ],
   "source": [
    "model.fit(X_train, Y_train, epochs=10)"
   ]
  },
  {
   "cell_type": "code",
   "execution_count": null,
   "metadata": {},
   "outputs": [
    {
     "name": "stdout",
     "output_type": "stream",
     "text": [
      "Evaluate on test data\n",
      "1232/1232 [==============================] - 3s 2ms/step - loss: 0.1935 - binary_accuracy: 0.9674 - false_negatives: 170.0000\n",
      "test loss, test acc: [0.19354166090488434, 0.9673570990562439, 170.0]\n"
     ]
    }
   ],
   "source": [
    "print(\"Evaluate on test data\")\n",
    "results = model.evaluate(X_test, Y_test)\n",
    "print(\"test loss, test acc:\", results)\n"
   ]
  },
  {
   "cell_type": "code",
   "execution_count": null,
   "metadata": {},
   "outputs": [
    {
     "name": "stdout",
     "output_type": "stream",
     "text": [
      "1232/1232 [==============================] - 3s 2ms/step - loss: 0.1944 - binary_accuracy: 0.9676 - false_negatives: 164.0000\n",
      "cv loss and acc: [0.19438008964061737, 0.9676371216773987, 164.0]\n"
     ]
    }
   ],
   "source": [
    "print(f\"cv loss and acc: {model.evaluate(X_cv, Y_cv)}\")"
   ]
  },
  {
   "cell_type": "code",
   "execution_count": null,
   "metadata": {},
   "outputs": [],
   "source": []
  }
 ],
 "metadata": {
  "kernelspec": {
   "display_name": ".venv",
   "language": "python",
   "name": "python3"
  },
  "language_info": {
   "codemirror_mode": {
    "name": "ipython",
    "version": 3
   },
   "file_extension": ".py",
   "mimetype": "text/x-python",
   "name": "python",
   "nbconvert_exporter": "python",
   "pygments_lexer": "ipython3",
   "version": "3.9.13"
  },
  "orig_nbformat": 4
 },
 "nbformat": 4,
 "nbformat_minor": 2
}

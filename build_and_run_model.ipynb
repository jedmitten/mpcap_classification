{
 "cells": [
  {
   "cell_type": "code",
   "execution_count": 32,
   "metadata": {},
   "outputs": [
    {
     "name": "stdout",
     "output_type": "stream",
     "text": [
      "The autoreload extension is already loaded. To reload it, use:\n",
      "  %reload_ext autoreload\n"
     ]
    }
   ],
   "source": [
    "%load_ext autoreload\n",
    "%autoreload 2\n"
   ]
  },
  {
   "cell_type": "code",
   "execution_count": 33,
   "metadata": {},
   "outputs": [],
   "source": [
    "import logging\n",
    "\n",
    "logging.basicConfig(\n",
    "    format=\"%(asctime)s ; %(levelname)s ; %(message)s\",\n",
    "    level=logging.DEBUG\n",
    ")\n",
    "logging.getLogger(\"scapy\").setLevel(logging.CRITICAL)\n",
    "logger = logging.getLogger(\"adAPT\")\n",
    "\n",
    "from typing import Tuple\n",
    "from pathlib import Path\n",
    "import tensorflow as tf\n",
    "from tensorflow.keras import layers\n",
    "from tensorflow.keras.regularizers import L2\n",
    "from tensorflow.keras import losses\n",
    "from tensorflow.keras import metrics\n",
    "from tensorflow.keras import optimizers\n",
    "from tensorflow import keras\n",
    "from sklearn.model_selection import train_test_split\n",
    "import pandas as pd\n",
    "import numpy as np\n",
    "from collections import Counter\n"
   ]
  },
  {
   "cell_type": "code",
   "execution_count": 34,
   "metadata": {},
   "outputs": [],
   "source": [
    "b_pkl = \"./data/benign_features.pkl\"\n",
    "m_pkl = \"./data/malicious_features.pkl\"\n",
    "\n",
    "b_df = pd.read_pickle(b_pkl)\n",
    "m_df = pd.read_pickle(m_pkl)\n"
   ]
  },
  {
   "cell_type": "code",
   "execution_count": 35,
   "metadata": {},
   "outputs": [],
   "source": [
    "b_df[\"malware\"] = 0.0"
   ]
  },
  {
   "cell_type": "code",
   "execution_count": 36,
   "metadata": {},
   "outputs": [],
   "source": [
    "m_df[\"malware\"] = 1.0\n"
   ]
  },
  {
   "cell_type": "code",
   "execution_count": 37,
   "metadata": {},
   "outputs": [],
   "source": [
    "all_df = pd.concat([b_df, m_df])"
   ]
  },
  {
   "cell_type": "code",
   "execution_count": 40,
   "metadata": {},
   "outputs": [
    {
     "data": {
      "text/html": [
       "<div>\n",
       "<style scoped>\n",
       "    .dataframe tbody tr th:only-of-type {\n",
       "        vertical-align: middle;\n",
       "    }\n",
       "\n",
       "    .dataframe tbody tr th {\n",
       "        vertical-align: top;\n",
       "    }\n",
       "\n",
       "    .dataframe thead th {\n",
       "        text-align: right;\n",
       "    }\n",
       "</style>\n",
       "<table border=\"1\" class=\"dataframe\">\n",
       "  <thead>\n",
       "    <tr style=\"text-align: right;\">\n",
       "      <th></th>\n",
       "      <th>time</th>\n",
       "      <th>day_hour</th>\n",
       "      <th>protocol</th>\n",
       "      <th>app_layer</th>\n",
       "      <th>source_addr</th>\n",
       "      <th>dest_addr</th>\n",
       "      <th>source_port</th>\n",
       "      <th>dest_port</th>\n",
       "      <th>proto_packet_length</th>\n",
       "      <th>proto_packet_cache</th>\n",
       "      <th>...</th>\n",
       "      <th>host_entropy</th>\n",
       "      <th>base_domain_entropy</th>\n",
       "      <th>host_length</th>\n",
       "      <th>proto_packet_entropy</th>\n",
       "      <th>source_ip_class_a</th>\n",
       "      <th>source_ip_class_b</th>\n",
       "      <th>source_ip_class_c</th>\n",
       "      <th>dest_ip_class_a</th>\n",
       "      <th>dest_ip_class_b</th>\n",
       "      <th>dest_ip_class_c</th>\n",
       "    </tr>\n",
       "  </thead>\n",
       "  <tbody>\n",
       "    <tr>\n",
       "      <th>4120</th>\n",
       "      <td>1663773679.201731</td>\n",
       "      <td>2022092108</td>\n",
       "      <td>IP</td>\n",
       "      <td>Unknown</td>\n",
       "      <td>10.9.20.144</td>\n",
       "      <td>76.13.32.146</td>\n",
       "      <td>49762</td>\n",
       "      <td>443</td>\n",
       "      <td>41</td>\n",
       "      <td>b'E\\x00\\x00)\\xf6\\xba@\\x00\\x80\\x06x\\xdc\\n\\t\\x14...</td>\n",
       "      <td>...</td>\n",
       "      <td>0.0</td>\n",
       "      <td>0.0</td>\n",
       "      <td>0</td>\n",
       "      <td>4.084184</td>\n",
       "      <td>10</td>\n",
       "      <td>10.9</td>\n",
       "      <td>10.9.20</td>\n",
       "      <td>76</td>\n",
       "      <td>76.13</td>\n",
       "      <td>76.13.32</td>\n",
       "    </tr>\n",
       "    <tr>\n",
       "      <th>36656</th>\n",
       "      <td>1678205820.441952</td>\n",
       "      <td>2023030708</td>\n",
       "      <td>IP</td>\n",
       "      <td>Unknown</td>\n",
       "      <td>172.16.1.137</td>\n",
       "      <td>192.185.4.22</td>\n",
       "      <td>64164</td>\n",
       "      <td>465</td>\n",
       "      <td>393</td>\n",
       "      <td>b'E\\x00\\x01\\x89\\xe2\\xad@\\x00\\x80\\x06\\xa4X\\xac\\...</td>\n",
       "      <td>...</td>\n",
       "      <td>0.0</td>\n",
       "      <td>0.0</td>\n",
       "      <td>0</td>\n",
       "      <td>4.021928</td>\n",
       "      <td>172</td>\n",
       "      <td>172.16</td>\n",
       "      <td>172.16.1</td>\n",
       "      <td>192</td>\n",
       "      <td>192.185</td>\n",
       "      <td>192.185.4</td>\n",
       "    </tr>\n",
       "    <tr>\n",
       "      <th>17576</th>\n",
       "      <td>1679109073.816603</td>\n",
       "      <td>2023031720</td>\n",
       "      <td>IP</td>\n",
       "      <td>Unknown</td>\n",
       "      <td>10.3.18.18</td>\n",
       "      <td>10.3.18.101</td>\n",
       "      <td>445</td>\n",
       "      <td>50954</td>\n",
       "      <td>308</td>\n",
       "      <td>b'E\\x00\\x0142\\x9c@\\x00\\x80\\x06\\x8e\\xab\\n\\x03\\x...</td>\n",
       "      <td>...</td>\n",
       "      <td>0.0</td>\n",
       "      <td>0.0</td>\n",
       "      <td>0</td>\n",
       "      <td>3.784184</td>\n",
       "      <td>10</td>\n",
       "      <td>10.3</td>\n",
       "      <td>10.3.18</td>\n",
       "      <td>10</td>\n",
       "      <td>10.3</td>\n",
       "      <td>10.3.18</td>\n",
       "    </tr>\n",
       "    <tr>\n",
       "      <th>19375</th>\n",
       "      <td>1681410477.659500</td>\n",
       "      <td>2023041311</td>\n",
       "      <td>IP</td>\n",
       "      <td>Unknown</td>\n",
       "      <td>10.127.0.71</td>\n",
       "      <td>185.172.129.192</td>\n",
       "      <td>49825</td>\n",
       "      <td>1775</td>\n",
       "      <td>40</td>\n",
       "      <td>b'E\\x00\\x00(\\x1a(@\\x00\\x80\\x06\\x9au\\n\\x7f\\x00G...</td>\n",
       "      <td>...</td>\n",
       "      <td>0.0</td>\n",
       "      <td>0.0</td>\n",
       "      <td>0</td>\n",
       "      <td>3.821928</td>\n",
       "      <td>10</td>\n",
       "      <td>10.127</td>\n",
       "      <td>10.127.0</td>\n",
       "      <td>185</td>\n",
       "      <td>185.172</td>\n",
       "      <td>185.172.129</td>\n",
       "    </tr>\n",
       "    <tr>\n",
       "      <th>69480</th>\n",
       "      <td>1678205857.919678</td>\n",
       "      <td>2023030708</td>\n",
       "      <td>IP</td>\n",
       "      <td>Unknown</td>\n",
       "      <td>172.16.1.137</td>\n",
       "      <td>54.144.214.6</td>\n",
       "      <td>64234</td>\n",
       "      <td>587</td>\n",
       "      <td>1500</td>\n",
       "      <td>b'E\\x00\\x05\\xdc\\xe3B@\\x00\\x80\\x06W\\xa9\\xac\\x10...</td>\n",
       "      <td>...</td>\n",
       "      <td>0.0</td>\n",
       "      <td>0.0</td>\n",
       "      <td>0</td>\n",
       "      <td>4.121928</td>\n",
       "      <td>172</td>\n",
       "      <td>172.16</td>\n",
       "      <td>172.16.1</td>\n",
       "      <td>54</td>\n",
       "      <td>54.144</td>\n",
       "      <td>54.144.214</td>\n",
       "    </tr>\n",
       "  </tbody>\n",
       "</table>\n",
       "<p>5 rows × 29 columns</p>\n",
       "</div>"
      ],
      "text/plain": [
       "                    time    day_hour protocol app_layer   source_addr   \n",
       "4120   1663773679.201731  2022092108       IP   Unknown   10.9.20.144  \\\n",
       "36656  1678205820.441952  2023030708       IP   Unknown  172.16.1.137   \n",
       "17576  1679109073.816603  2023031720       IP   Unknown    10.3.18.18   \n",
       "19375  1681410477.659500  2023041311       IP   Unknown   10.127.0.71   \n",
       "69480  1678205857.919678  2023030708       IP   Unknown  172.16.1.137   \n",
       "\n",
       "             dest_addr  source_port  dest_port  proto_packet_length   \n",
       "4120      76.13.32.146        49762        443                   41  \\\n",
       "36656     192.185.4.22        64164        465                  393   \n",
       "17576      10.3.18.101          445      50954                  308   \n",
       "19375  185.172.129.192        49825       1775                   40   \n",
       "69480     54.144.214.6        64234        587                 1500   \n",
       "\n",
       "                                      proto_packet_cache  ...  host_entropy   \n",
       "4120   b'E\\x00\\x00)\\xf6\\xba@\\x00\\x80\\x06x\\xdc\\n\\t\\x14...  ...           0.0  \\\n",
       "36656  b'E\\x00\\x01\\x89\\xe2\\xad@\\x00\\x80\\x06\\xa4X\\xac\\...  ...           0.0   \n",
       "17576  b'E\\x00\\x0142\\x9c@\\x00\\x80\\x06\\x8e\\xab\\n\\x03\\x...  ...           0.0   \n",
       "19375  b'E\\x00\\x00(\\x1a(@\\x00\\x80\\x06\\x9au\\n\\x7f\\x00G...  ...           0.0   \n",
       "69480  b'E\\x00\\x05\\xdc\\xe3B@\\x00\\x80\\x06W\\xa9\\xac\\x10...  ...           0.0   \n",
       "\n",
       "      base_domain_entropy host_length proto_packet_entropy source_ip_class_a   \n",
       "4120                  0.0           0             4.084184                10  \\\n",
       "36656                 0.0           0             4.021928               172   \n",
       "17576                 0.0           0             3.784184                10   \n",
       "19375                 0.0           0             3.821928                10   \n",
       "69480                 0.0           0             4.121928               172   \n",
       "\n",
       "      source_ip_class_b source_ip_class_c  dest_ip_class_a  dest_ip_class_b   \n",
       "4120               10.9           10.9.20               76            76.13  \\\n",
       "36656            172.16          172.16.1              192          192.185   \n",
       "17576              10.3           10.3.18               10             10.3   \n",
       "19375            10.127          10.127.0              185          185.172   \n",
       "69480            172.16          172.16.1               54           54.144   \n",
       "\n",
       "       dest_ip_class_c  \n",
       "4120          76.13.32  \n",
       "36656        192.185.4  \n",
       "17576          10.3.18  \n",
       "19375      185.172.129  \n",
       "69480       54.144.214  \n",
       "\n",
       "[5 rows x 29 columns]"
      ]
     },
     "execution_count": 40,
     "metadata": {},
     "output_type": "execute_result"
    }
   ],
   "source": [
    "all_df.sample(5)"
   ]
  },
  {
   "cell_type": "code",
   "execution_count": 20,
   "metadata": {},
   "outputs": [],
   "source": [
    "def prepare_df_for_ml(df: pd.DataFrame) -> pd.DataFrame:\n",
    "    df = df.copy()\n",
    "    fields = [\n",
    "        \"protocol\",\n",
    "        \"app_layer\",\n",
    "        \"source_addr\", \n",
    "        \"dest_addr\",\n",
    "        \"source_port\",\n",
    "        \"dest_port\",\n",
    "        \"proto_packet_length\",\n",
    "        \"ip_packet_length\",\n",
    "        # \"url\",\n",
    "        \"url_entropy\",\n",
    "        \"host_entropy\",\n",
    "        \"base_domain_entropy\",\n",
    "        \"host_length\",\n",
    "        \"proto_packet_entropy\",\n",
    "    ]\n",
    "    new_df = df[fields]\n",
    "    new_df.loc[:, [\"source_port\", \"dest_port\"]] = new_df[[\"source_port\", \"dest_port\", ]].astype(str)\n",
    "    new_df.loc[:, [\"ip_packet_length\", \"source_port\"]] = new_df[[\"ip_packet_length\", \"source_port\", ]].astype(float)\n",
    "        \n",
    "    return pd.get_dummies(new_df)"
   ]
  },
  {
   "cell_type": "code",
   "execution_count": 21,
   "metadata": {},
   "outputs": [],
   "source": [
    "y = all_df[\"malware\"].values\n",
    "input_values = all_df.drop(\"malware\", axis=1)\n",
    "prepped = prepare_df_for_ml(input_values)\n",
    "X = np.asarray(prepped.values).astype(\"float64\")"
   ]
  },
  {
   "cell_type": "code",
   "execution_count": 22,
   "metadata": {},
   "outputs": [
    {
     "data": {
      "text/plain": [
       "(196981,)"
      ]
     },
     "execution_count": 22,
     "metadata": {},
     "output_type": "execute_result"
    }
   ],
   "source": [
    "y.shape"
   ]
  },
  {
   "cell_type": "code",
   "execution_count": 23,
   "metadata": {},
   "outputs": [
    {
     "data": {
      "text/plain": [
       "(196981, 6057)"
      ]
     },
     "execution_count": 23,
     "metadata": {},
     "output_type": "execute_result"
    }
   ],
   "source": [
    "X.shape"
   ]
  },
  {
   "cell_type": "code",
   "execution_count": 24,
   "metadata": {},
   "outputs": [],
   "source": [
    "X_train, X_test, Y_train, Y_test = train_test_split(X, y, test_size=0.40, random_state=234)"
   ]
  },
  {
   "cell_type": "code",
   "execution_count": 25,
   "metadata": {},
   "outputs": [],
   "source": [
    "X_test, X_cv, Y_test, Y_cv = train_test_split(X_test, Y_test, test_size=0.50, random_state=33)"
   ]
  },
  {
   "cell_type": "code",
   "execution_count": 26,
   "metadata": {},
   "outputs": [
    {
     "name": "stdout",
     "output_type": "stream",
     "text": [
      "X_train.shape: (118188, 6057)\n",
      "X_test.shape: (39396, 6057)\n",
      "X_cv.shape: (39397, 6057)\n",
      "Y_train.shape: (118188,)\n",
      "Y_test.shape: (39396,)\n",
      "Y_cv.shape: (39397,)\n"
     ]
    }
   ],
   "source": [
    "print(f\"X_train.shape: {X_train.shape}\")\n",
    "print(f\"X_test.shape: {X_test.shape}\")\n",
    "print(f\"X_cv.shape: {X_cv.shape}\")\n",
    "print(f\"Y_train.shape: {Y_train.shape}\")\n",
    "print(f\"Y_test.shape: {Y_test.shape}\")\n",
    "print(f\"Y_cv.shape: {Y_cv.shape}\")\n"
   ]
  },
  {
   "cell_type": "code",
   "execution_count": 27,
   "metadata": {},
   "outputs": [],
   "source": [
    "normalizer = tf.keras.layers.Normalization(axis=-1)\n",
    "\n",
    "layer_1 = layers.Dense(units=9, input_shape=(X_train.shape[-1], ), activation=\"relu\", kernel_regularizer=L2(0.01))\n",
    "layer_2 = layers.Dense(units=15, activation=\"relu\", kernel_regularizer=L2(0.01))\n",
    "layer_3 = layers.Dense(units=1, activation=\"sigmoid\", kernel_regularizer=L2(0.01))\n",
    "\n",
    "model = keras.Sequential([\n",
    "    normalizer,\n",
    "    layer_1,\n",
    "    layer_2,\n",
    "    layer_3\n",
    "])"
   ]
  },
  {
   "cell_type": "code",
   "execution_count": 28,
   "metadata": {},
   "outputs": [],
   "source": [
    "model.compile(\n",
    "    optimizer=\"adam\",  # Optimizer\n",
    "    # Loss function to minimize\n",
    "    loss=losses.BinaryCrossentropy(),\n",
    "    metrics=[\n",
    "        tf.keras.metrics.BinaryAccuracy(),\n",
    "        tf.keras.metrics.FalseNegatives()\n",
    "    ],\n",
    ")"
   ]
  },
  {
   "cell_type": "code",
   "execution_count": 29,
   "metadata": {},
   "outputs": [
    {
     "name": "stdout",
     "output_type": "stream",
     "text": [
      "Epoch 1/10\n",
      "3694/3694 [==============================] - 15s 4ms/step - loss: 0.3199 - binary_accuracy: 0.9193 - false_negatives: 604.0000\n",
      "Epoch 2/10\n",
      "3694/3694 [==============================] - 13s 4ms/step - loss: 0.2130 - binary_accuracy: 0.9684 - false_negatives: 1117.0000\n",
      "Epoch 3/10\n",
      "3694/3694 [==============================] - 13s 4ms/step - loss: 0.2084 - binary_accuracy: 0.9685 - false_negatives: 1141.0000\n",
      "Epoch 4/10\n",
      "3694/3694 [==============================] - 13s 4ms/step - loss: 0.2007 - binary_accuracy: 0.9694 - false_negatives: 1117.0000\n",
      "Epoch 5/10\n",
      "3694/3694 [==============================] - 13s 4ms/step - loss: 0.1938 - binary_accuracy: 0.9707 - false_negatives: 1062.0000\n",
      "Epoch 6/10\n",
      "3694/3694 [==============================] - 14s 4ms/step - loss: 0.1913 - binary_accuracy: 0.9709 - false_negatives: 1026.0000\n",
      "Epoch 7/10\n",
      "3694/3694 [==============================] - 13s 4ms/step - loss: 0.1995 - binary_accuracy: 0.9699 - false_negatives: 1128.0000\n",
      "Epoch 8/10\n",
      "3694/3694 [==============================] - 13s 4ms/step - loss: 0.1850 - binary_accuracy: 0.9714 - false_negatives: 1031.0000\n",
      "Epoch 9/10\n",
      "3694/3694 [==============================] - 13s 4ms/step - loss: 0.1860 - binary_accuracy: 0.9712 - false_negatives: 1012.0000\n",
      "Epoch 10/10\n",
      "3694/3694 [==============================] - 13s 4ms/step - loss: 0.1869 - binary_accuracy: 0.9705 - false_negatives: 1082.0000\n"
     ]
    },
    {
     "data": {
      "text/plain": [
       "<keras.callbacks.History at 0x16db29c70>"
      ]
     },
     "execution_count": 29,
     "metadata": {},
     "output_type": "execute_result"
    }
   ],
   "source": [
    "model.fit(X_train, Y_train, epochs=10)"
   ]
  },
  {
   "cell_type": "code",
   "execution_count": 30,
   "metadata": {},
   "outputs": [
    {
     "name": "stdout",
     "output_type": "stream",
     "text": [
      "Evaluate on test data\n",
      "1232/1232 [==============================] - 3s 2ms/step - loss: 0.1935 - binary_accuracy: 0.9674 - false_negatives: 170.0000\n",
      "test loss, test acc: [0.19354166090488434, 0.9673570990562439, 170.0]\n"
     ]
    }
   ],
   "source": [
    "print(\"Evaluate on test data\")\n",
    "results = model.evaluate(X_test, Y_test)\n",
    "print(\"test loss, test acc:\", results)\n"
   ]
  },
  {
   "cell_type": "code",
   "execution_count": 31,
   "metadata": {},
   "outputs": [
    {
     "name": "stdout",
     "output_type": "stream",
     "text": [
      "1232/1232 [==============================] - 3s 2ms/step - loss: 0.1944 - binary_accuracy: 0.9676 - false_negatives: 164.0000\n",
      "cv loss and acc: [0.19438008964061737, 0.9676371216773987, 164.0]\n"
     ]
    }
   ],
   "source": [
    "print(f\"cv loss and acc: {model.evaluate(X_cv, Y_cv)}\")"
   ]
  },
  {
   "cell_type": "code",
   "execution_count": null,
   "metadata": {},
   "outputs": [],
   "source": []
  }
 ],
 "metadata": {
  "kernelspec": {
   "display_name": ".venv",
   "language": "python",
   "name": "python3"
  },
  "language_info": {
   "codemirror_mode": {
    "name": "ipython",
    "version": 3
   },
   "file_extension": ".py",
   "mimetype": "text/x-python",
   "name": "python",
   "nbconvert_exporter": "python",
   "pygments_lexer": "ipython3",
   "version": "3.9.13"
  },
  "orig_nbformat": 4
 },
 "nbformat": 4,
 "nbformat_minor": 2
}

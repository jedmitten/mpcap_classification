{
 "cells": [
  {
   "cell_type": "code",
   "execution_count": 10,
   "metadata": {},
   "outputs": [
    {
     "name": "stdout",
     "output_type": "stream",
     "text": [
      "The autoreload extension is already loaded. To reload it, use:\n",
      "  %reload_ext autoreload\n"
     ]
    }
   ],
   "source": [
    "%load_ext autoreload\n",
    "%autoreload 2\n"
   ]
  },
  {
   "cell_type": "code",
   "execution_count": 11,
   "metadata": {},
   "outputs": [],
   "source": [
    "import logging\n",
    "\n",
    "logging.basicConfig(\n",
    "    format=\"%(asctime)s ; %(levelname)s ; %(message)s\",\n",
    "    level=logging.DEBUG\n",
    ")\n",
    "logging.getLogger(\"scapy\").setLevel(logging.CRITICAL)\n",
    "log = logging.getLogger(\"adAPT\")\n",
    "\n",
    "from pathlib import Path\n",
    "import tensorflow as tf\n",
    "import pandas as pd\n",
    "import numpy as np\n",
    "from scapy import all as sp\n"
   ]
  },
  {
   "cell_type": "code",
   "execution_count": 12,
   "metadata": {},
   "outputs": [],
   "source": [
    "FILE_DIR = Path(\"~/GitRepos/challenge-datasets/\").expanduser()\n",
    "BENIGN_DIR = FILE_DIR / \"benign\"\n",
    "MALWAR_DIR = FILE_DIR / \"malware\"\n",
    "\n",
    "BENIGN_FILES = list([f for f in BENIGN_DIR.iterdir() if str(f).endswith(\".pcap\") or str(f).endswith(\".pcapng\")])\n",
    "MALWAR_FILES = list([f for f in MALWAR_DIR.iterdir() if str(f).endswith(\".pcap\") or str(f).endswith(\".pcapng\")])\n",
    "\n",
    "\n",
    "assert BENIGN_DIR.exists(), \"Benign dir cannot be found\"\n",
    "assert MALWAR_DIR.exists(), \"Malware dir cannot be found\"\n"
   ]
  },
  {
   "cell_type": "code",
   "execution_count": 13,
   "metadata": {},
   "outputs": [
    {
     "data": {
      "text/plain": [
       "[PosixPath('/Users/jedmitten/GitRepos/challenge-datasets/benign/The Ultimate PCAP v20221220.pcapng')]"
      ]
     },
     "execution_count": 13,
     "metadata": {},
     "output_type": "execute_result"
    }
   ],
   "source": [
    "BENIGN_FILES"
   ]
  },
  {
   "cell_type": "code",
   "execution_count": 14,
   "metadata": {},
   "outputs": [
    {
     "data": {
      "text/plain": [
       "[PosixPath('/Users/jedmitten/GitRepos/challenge-datasets/malware/2023-03-07-Emotet-epoch4-infection-with-spambot-traffic-carved.pcap'),\n",
       " PosixPath('/Users/jedmitten/GitRepos/challenge-datasets/malware/2023-04-13-MetaStealer-C2-traffic.pcap'),\n",
       " PosixPath('/Users/jedmitten/GitRepos/challenge-datasets/malware/2023-01-05-Agent-Tesla-variant-traffic.pcap'),\n",
       " PosixPath('/Users/jedmitten/GitRepos/challenge-datasets/malware/2023-01-16-IcedID-infection-with-Backonnect-and-VNC-and-Cobalt-Strike.pcap'),\n",
       " PosixPath('/Users/jedmitten/GitRepos/challenge-datasets/malware/2022-01-04-Remcos-RAT-infection-traffic.pcap'),\n",
       " PosixPath('/Users/jedmitten/GitRepos/challenge-datasets/malware/2023-03-18-Emotet-E5-infection-traffic.pcap'),\n",
       " PosixPath('/Users/jedmitten/GitRepos/challenge-datasets/malware/2022-12-07-Bumblebee-infection-with-Cobalt-Strike.pcap'),\n",
       " PosixPath('/Users/jedmitten/GitRepos/challenge-datasets/malware/2022-09-21-Astaroth-Guildma-infection.pcap')]"
      ]
     },
     "execution_count": 14,
     "metadata": {},
     "output_type": "execute_result"
    }
   ],
   "source": [
    "MALWAR_FILES"
   ]
  },
  {
   "cell_type": "code",
   "execution_count": 15,
   "metadata": {},
   "outputs": [],
   "source": [
    "from collections import Counter\n",
    "\n",
    "EXCLUDE_NAMES = [\"Ethernet\", \"802.3\", \"cooked linux\", \"MPacket Preamble\"]\n",
    "INTERESTING_SERVICE_PORTS = [80, 443, 22, 53, 21, 20, 25, 179, 465]\n",
    "IGNORE_SERVICE_PORTS = list(range(20))  # skip packets with ports lower than 20\n",
    "IGNORE_SERVICE_PORTS.append(37)  # time protocol\n",
    "IGNORE_SERVICE_PORTS.append(646)  # ldp protocol\n",
    "IGNORE_SERVICE_PORTS.append(179)  # bgp protocol\n"
   ]
  },
  {
   "cell_type": "code",
   "execution_count": 16,
   "metadata": {},
   "outputs": [],
   "source": [
    "from typing import Any, Dict, List\n",
    "sp.load_layer(\"http\")\n",
    "\n",
    "class Protocol:\n",
    "    UDP = 17\n",
    "    IPv4 = 6\n",
    "    IPv6 = 34525\n",
    "    IPv6_enc = 41\n",
    "    \n",
    "\n",
    "class App:\n",
    "    Unknown = -1\n",
    "    HTTP = 0\n",
    "    HTTPS = 1\n",
    "    DNS = 2\n",
    "    FTP = 3\n",
    "    SSH = 4\n",
    "    SMTP = 5\n",
    "    \n",
    "HTTP_METHODS = [\"GET\", \"POST\", \"HEAD\", \"PUT\", \"DELETE\", \"CONNECT\", \"OPTIONS\", \"TRACE\", \"PATCH\"]\n",
    "    \n",
    "\n",
    "def get_proto(pkt: sp.Packet) -> Any:\n",
    "    try:\n",
    "        if pkt.proto == Protocol.IPv6 or pkt.proto == Protocol.IPv6_enc:\n",
    "            return sp.IPv6\n",
    "        if pkt.proto == Protocol.IPv4:\n",
    "            return sp.IP\n",
    "        if pkt.proto == Protocol.UDP:\n",
    "            return sp.UDP\n",
    "        return None\n",
    "    except:\n",
    "        return None\n",
    "    \n",
    "\n",
    "def identify_raw(pkt: sp.Packet) -> App:\n",
    "    lines = pkt.load.encode().split(\"\\n\")\n",
    "    log.debug(f\"identifying raw from lines[0]: {lines[0]}\")\n",
    "    if lines[0].split(\" \")[0] in HTTP_METHODS:\n",
    "        return App.HTTP\n",
    "    return App.Unknown\n",
    "\n",
    "    \n",
    "def parse_raw(pkt: sp.Packet) -> Dict:\n",
    "    \"\"\" Turn a Raw payload into a dictionary of data \"\"\"\n",
    "    log.info(\"entering parse_raw...\")\n",
    "    raw_app = identify_raw(pkt)\n",
    "    if raw_app != App.Unknown:\n",
    "        log.debug(f\"Identified app: {raw_app}\")\n",
    "\n",
    "    try:\n",
    "        raw_text = pkt.load.encode()\n",
    "        lines = raw_text.split(\"\\n\")\n",
    "        if raw_app == App.HTTP:\n",
    "            command, path, _ = lines[0].split(\" \", maxsplit=2)\n",
    "            _, host = lines[1].split(\": \")\n",
    "            _, user_agent = lines[2].split(\": \")\n",
    "            _, accept = lines[3].split(\": \")\n",
    "            _, accept_language = lines[4].split(\": \")\n",
    "            _, accept_encoding = lines[5].split(\": \")\n",
    "            \n",
    "            d = {\n",
    "                \"command\": command,\n",
    "                \"path\": path,\n",
    "                \"host\": host,\n",
    "                \"user_agent\": user_agent,\n",
    "                \"accept\": accept,\n",
    "                \"accept_language\": accept_language,\n",
    "                \"accept_encoding\": accept_encoding,\n",
    "            }\n",
    "            \n",
    "            return d\n",
    "        else:\n",
    "            log.warning(f\"Could not parse {raw_text}\")\n",
    "            return {\"raw\": raw_text}\n",
    "    except:\n",
    "        pass\n",
    "    \n",
    "def make_rows(pkts: sp.PacketList) -> List[Dict]:\n",
    "    \"\"\" Read a packet, output a dict of values \"\"\"\n",
    "    \n",
    "    log.debug(f\"Filtering packets on IP, IPv6, and UDP\")\n",
    "\n",
    "    for pkt in pkts[sp.IP] + pkts[sp.IPv6] + pkts[sp.UDP]:\n",
    "        proto = get_proto(pkt)\n",
    "        log.debug(f\"Identified proto as {proto}\")\n",
    "        try:\n",
    "            try:\n",
    "                pkt[proto].sport\n",
    "                pkt[proto].dport\n",
    "            except:\n",
    "                # this is not a packet with necessary attrs\n",
    "                log.warning(\"Could not find src or dst ports, skipping...\")\n",
    "                continue\n",
    "            if pkt[proto].sport in IGNORE_SERVICE_PORTS or pkt[proto].dport in IGNORE_SERVICE_PORTS:\n",
    "                # skip packets with certain service ports\n",
    "                continue\n",
    "            parsed = None\n",
    "            if 'Raw' in pkt:\n",
    "                log.debug(\"Found 'Raw' layer in packet. Parsing...\")\n",
    "                parsed = parse_raw(pkt['Raw'])\n",
    "            row = {\n",
    "                \"protocol\": pkt[proto].name,\n",
    "                \"source_addr\": pkt[sp.IP].src,\n",
    "                \"dest_addr\": pkt[sp.IP].dst,\n",
    "                \"source_port\": pkt[proto].sport,\n",
    "                \"dest_port\": pkt[proto].dport,\n",
    "                \"proto_packet_length\": pkt[proto].len,\n",
    "                \"proto_packet_cache\": pkt[proto].raw_packet_cache,\n",
    "                \"ip_packet_length\": pkt[sp.IP].len,\n",
    "                \"ip_options\": pkt[sp.IP].options,\n",
    "                \"ip_packet_cache\": pkt[sp.IP].raw_packet_cache,\n",
    "                \"parsed\": parsed,\n",
    "            }\n",
    "            yield row\n",
    "        except Exception as e:\n",
    "            continue\n",
    "            "
   ]
  },
  {
   "cell_type": "code",
   "execution_count": 18,
   "metadata": {},
   "outputs": [
    {
     "name": "stderr",
     "output_type": "stream",
     "text": [
      "2023-05-09 15:07:59,015 ; INFO ; Reading /Users/jedmitten/GitRepos/challenge-datasets/benign/The Ultimate PCAP v20221220.pcapng...\n"
     ]
    }
   ],
   "source": [
    "with open(BENIGN_FILES[0], \"rb\") as f:\n",
    "    log.info(f\"Reading {BENIGN_FILES[0]}...\")\n",
    "    rows = make_rows(sp.rdpcap(f))"
   ]
  },
  {
   "cell_type": "code",
   "execution_count": 72,
   "metadata": {},
   "outputs": [
    {
     "data": {
      "text/plain": [
       "[]"
      ]
     },
     "execution_count": 72,
     "metadata": {},
     "output_type": "execute_result"
    }
   ],
   "source": [
    "[r for r in rows if r['parsed'] is not None]"
   ]
  },
  {
   "cell_type": "code",
   "execution_count": 42,
   "metadata": {},
   "outputs": [
    {
     "data": {
      "text/plain": [
       "0"
      ]
     },
     "execution_count": 42,
     "metadata": {},
     "output_type": "execute_result"
    }
   ],
   "source": [
    "len(list(rows))"
   ]
  },
  {
   "cell_type": "code",
   "execution_count": 23,
   "metadata": {},
   "outputs": [],
   "source": [
    "from collections import Counter\n",
    "\n",
    "EXCLUDE_NAMES = [\"Ethernet\", \"802.3\", \"cooked linux\", \"MPacket Preamble\"]\n",
    "INTERESTING_SERVICE_PORTS = [80, 443, 22, 53, 21, 20, 25, 179, 465]\n",
    "IGNORE_SERVICE_PORTS = list(range(20))  # skip packets with ports lower than 20\n",
    "IGNORE_SERVICE_PORTS.append(37)  # time protocol\n",
    "IGNORE_SERVICE_PORTS.append(646)  # ldp protocol\n",
    "IGNORE_SERVICE_PORTS.append(179)  # bgp protocol\n",
    "\n",
    "def process_pcap(pcap_file):\n",
    "    pcap = sp.rdpcap(pcap_file)\n",
    "    dports = []\n",
    "    urls = []\n",
    "    \n",
    "    clients = []\n",
    "    servers = []\n",
    "    \n",
    "    ipv4_packets = pcap[sp.IP]\n",
    "    ipv6_packets = pcap[sp.IPv6]\n",
    "    tcp_packets = pcap[sp.TCP]\n",
    "    udp_packets = pcap[sp.UDP]\n",
    "    protocols = []\n",
    "    \n",
    "    print(f\"Found {len(ipv4_packets)} IPv4 packets\")\n",
    "    print(f\"Found {len(ipv6_packets)} IPv6 packets\")\n",
    "    print(f\"Found {len(tcp_packets)} TCP packets\")\n",
    "    print(f\"Found {len(udp_packets)} UDP packets\")\n",
    "    # print(f\"TCP Fields: {tcp_packets[0].fields}\")\n",
    "    # print(f\"UDP Fields: {udp_packets[0].fields}\")\n",
    "    \n",
    "    sessions = pcap.sessions()\n",
    "    \n",
    "    for sess in sessions:\n",
    "        for pkt in sessions[sess]:\n",
    "            try:\n",
    "                if pkt.sport in IGNORE_SERVICE_PORTS or pkt.dport in IGNORE_SERVICE_PORTS:\n",
    "                    # skip certain packets\n",
    "                    continue\n",
    "\n",
    "                protocols.append(pkt.proto)\n",
    "                if pkt.proto == 34525 or pkt.proto == 41:\n",
    "                    payload_class = sp.IPv6\n",
    "                elif pkt.proto == 6:\n",
    "                    payload_class = sp.IP\n",
    "                elif pkt.proto == 17:\n",
    "                    payload_class = sp.UDP\n",
    "                else:\n",
    "                    # skip non-IP packets\n",
    "                    continue\n",
    "                if pkt.sport in INTERESTING_SERVICE_PORTS:\n",
    "                    servers.append(pkt[payload_class].src)\n",
    "                    clients.append(pkt[payload_class].dst)\n",
    "                elif pkt.dport in INTERESTING_SERVICE_PORTS:\n",
    "                    servers.append(pkt[payload_class].dst)\n",
    "                    clients.append(pkt[payload_class].src)\n",
    "\n",
    "                dports.append(pkt.dport)\n",
    "                pkt_len = len(pkt[sp.TCP])\n",
    "                # urls.append(sp.get_url_from_payload(payload))\n",
    "                pass\n",
    "            except IndexError as e:\n",
    "                # print(\"TCP not found in packet\")\n",
    "                pass\n",
    "            except AttributeError as e:\n",
    "                # no url found \n",
    "                pass\n",
    "\n",
    "    print(f\"dports: {Counter(dports)}\")\n",
    "    print(f\"servers: {Counter(servers)}\")\n",
    "    print(f\"protocols: {Counter(protocols)}\")\n",
    "    # print(f\"urls: {Counter(urls)}\")\n"
   ]
  },
  {
   "cell_type": "code",
   "execution_count": 24,
   "metadata": {},
   "outputs": [
    {
     "name": "stdout",
     "output_type": "stream",
     "text": [
      "Processing /Users/jedmitten/GitRepos/challenge-datasets/benign/The Ultimate PCAP v20221220.pcapng...\n",
      "Found 23056 IPv4 packets\n",
      "Found 11145 IPv6 packets\n",
      "Found 8374 TCP packets\n",
      "Found 17442 UDP packets\n",
      "dports: Counter({1303: 3368, 123: 703, 3785: 472, 3222: 388, 10051: 373, 1985: 338, 500: 226, 5353: 204, 1030: 197, 8080: 172, 57789: 169, 514: 161, 162: 158, 57556: 146, 53: 143, 1305: 103, 601: 103, 21: 102, 443: 81, 38889: 73, 520: 68, 1900: 68, 3784: 65, 65535: 60, 54723: 46, 1307: 46, 51111: 46, 3295: 42, 51079: 41, 51104: 39, 49: 36, 3296: 34, 53390: 33, 65534: 30, 51108: 30, 57895: 28, 51072: 27, 51109: 26, 53702: 26, 3293: 25, 45271: 23, 80: 21, 65439: 20, 6514: 20, 9100: 19, 515: 19, 1967: 18, 3292: 18, 3298: 18, 51078: 16, 50274: 16, 57221: 14, 50912: 13, 51106: 12, 58486: 12, 3128: 11, 5246: 11, 5247: 11, 25: 11, 33878: 11, 64199: 11, 64091: 11, 57994: 11, 52984: 11, 51297: 11, 51587: 11, 59001: 11, 59325: 11, 57595: 11, 54445: 11, 12176: 11, 56372: 11, 40925: 11, 33054: 11, 1556: 10, 51105: 10, 33509: 9, 67: 9, 54958: 9, 51645: 9, 45515: 9, 1154: 8, 68: 8, 50477: 8, 11371: 8, 39638: 8, 52149: 8, 34307: 8, 54615: 7, 1227: 7, 1231: 7, 51076: 7, 1812: 7, 33496: 6, 1152: 6, 57529: 6, 58694: 6, 44892: 6, 55826: 6, 39255: 6, 28910: 6, 16480: 6, 43625: 5, 45184: 5, 51598: 5, 42521: 5, 49840: 5, 44206: 5, 53625: 5, 33840: 5, 37248: 5, 34978: 5, 33328: 5, 1226: 5, 1228: 5, 1229: 5, 1230: 5, 46070: 5, 40743: 5, 43: 5, 55338: 5, 51652: 5, 52833: 5, 42573: 5, 33207: 5, 49404: 5, 49408: 5, 49410: 5, 49412: 5, 49416: 5, 49418: 5, 49420: 5, 49422: 5, 58684: 5, 58686: 5, 58690: 5, 58692: 5, 58696: 5, 58698: 5, 58700: 5, 60388: 5, 60390: 5, 60392: 5, 60394: 5, 60396: 5, 60398: 5, 60400: 5, 60402: 5, 60404: 5, 60406: 5, 60408: 5, 36504: 5, 36506: 5, 36508: 5, 36510: 5, 36512: 5, 36514: 5, 36516: 5, 36518: 5, 36520: 5, 36522: 5, 44894: 5, 44896: 5, 37202: 5, 59326: 5, 59336: 5, 53948: 5, 57208: 5, 54614: 5, 54600: 5, 36596: 5, 36598: 5, 48254: 5, 47334: 5, 53190: 5, 31984: 5, 43881: 5, 26412: 5, 21110: 5, 33424: 5, 34751: 4, 58932: 4, 39367: 4, 54866: 4, 39005: 4, 40964: 4, 59032: 4, 37134: 4, 53598: 4, 37941: 4, 42058: 4, 58685: 4, 40301: 4, 47627: 4, 47185: 4, 33022: 4, 49730: 4, 54277: 4, 33123: 4, 59363: 4, 39118: 4, 40976: 4, 51075: 4, 37003: 4, 58688: 4, 37196: 4, 45654: 4, 59322: 4, 57192: 4, 36594: 4, 47322: 4, 58482: 4, 33437: 3, 33438: 3, 33439: 3, 33440: 3, 33441: 3, 33442: 3, 33443: 3, 33444: 3, 33445: 3, 33446: 3, 33447: 3, 33448: 3, 33449: 3, 33450: 3, 33451: 3, 33452: 3, 33453: 3, 33454: 3, 33455: 3, 33456: 3, 33457: 3, 33458: 3, 33459: 3, 33460: 3, 33461: 3, 33462: 3, 33463: 3, 33464: 3, 33465: 3, 33466: 3, 53900: 3, 57933: 3, 49406: 3, 49414: 3, 33434: 2, 33435: 2, 33436: 2, 33467: 2, 33468: 2, 33469: 2, 33470: 2, 33471: 2, 33472: 2, 33473: 2, 33474: 2, 33475: 2, 33476: 2, 33477: 2, 33478: 2, 59399: 2, 901: 2, 8654: 2, 3385: 2, 161: 2, 3291: 2, 3294: 2, 33479: 1, 33480: 1, 33481: 1, 33482: 1, 33483: 1, 33484: 1, 33485: 1, 33486: 1, 33487: 1, 33488: 1, 33489: 1, 33490: 1, 33491: 1, 33492: 1, 33493: 1, 33494: 1, 33495: 1, 33497: 1, 33498: 1, 33499: 1, 33500: 1, 33501: 1, 33502: 1, 33503: 1, 33504: 1, 33505: 1, 33506: 1, 33507: 1, 33508: 1, 33510: 1, 33511: 1, 33512: 1, 33513: 1, 33514: 1, 33515: 1, 33516: 1, 33517: 1, 33518: 1, 33519: 1, 33520: 1, 33521: 1, 33522: 1, 33523: 1, 35981: 1, 69: 1, 56653: 1, 35059: 1, 46869: 1, 54287: 1, 59349: 1, 33264: 1, 49585: 1, 32792: 1, 53413: 1, 11596: 1, 51758: 1, 47144: 1, 61926: 1, 49671: 1, 49670: 1, 35337: 1, 41381: 1, 43642: 1, 8584: 1, 10048: 1, 3860: 1, 3373: 1})\n",
      "servers: Counter({'5.35.226.136': 200, '9.9.9.9': 166, '193.24.227.248': 113, '192.168.120.21': 44, '80.154.108.237': 34, '194.247.5.23': 34, '80.237.133.136': 22, '85.215.94.29': 20, '80.154.108.235': 17, '80.154.108.230': 10, '194.247.5.14': 10, '192.31.80.30': 8, '141.41.241.70': 8, '192.168.7.12': 7, '213.248.220.1': 4, '209.112.114.33': 2, '192.54.112.30': 2})\n",
      "protocols: Counter({17: 7464, 33: 6485, 6: 3138, 47: 306, 87: 274, 2048: 221, 41: 166, 34525: 120, 1: 43})\n"
     ]
    }
   ],
   "source": [
    "for fn in BENIGN_FILES:\n",
    "    with open(fn, \"rb\") as pcap_file:\n",
    "        print(f\"Processing {fn}...\")\n",
    "        process_pcap(pcap_file)\n"
   ]
  },
  {
   "cell_type": "code",
   "execution_count": 86,
   "metadata": {},
   "outputs": [
    {
     "name": "stdout",
     "output_type": "stream",
     "text": [
      "Processing /Users/jedmitten/GitRepos/challenge-datasets/malware/2023-03-07-Emotet-epoch4-infection-with-spambot-traffic-carved.pcap...\n",
      "Found 75333 IPv4 packets\n",
      "Found 214 IPv6 packets\n",
      "Found 75225 TCP packets\n",
      "Found 322 UDP packets\n",
      "dports: Counter({465: 16125, 587: 7545, 64234: 6164, 64164: 6043, 64173: 5562, 64068: 5362, 64088: 5012, 64163: 4038, 443: 2017, 64195: 1759, 64176: 1573, 64110: 1385, 64067: 1364, 8080: 1193, 7080: 1186, 64198: 991, 64157: 965, 64101: 910, 64129: 656, 64021: 649, 64214: 649, 64065: 623, 64055: 419, 64031: 385, 25: 245, 64046: 215, 64039: 205, 80: 125, 64060: 121, 64058: 119, 64026: 113, 64023: 112, 64033: 53, 64036: 53, 64204: 34, 64135: 32, 64160: 32, 64108: 25, 64085: 21, 64070: 21, 64136: 21, 64169: 21, 64175: 21, 64181: 21, 64180: 21, 64208: 21, 64216: 21, 64099: 20, 64134: 20, 64133: 20, 64138: 20, 64161: 20, 64167: 20, 64183: 20, 64241: 20, 64246: 20, 64247: 20, 64086: 17, 64090: 17, 64132: 17, 64182: 17, 64215: 17, 64252: 17, 64104: 16, 64158: 16, 64239: 16, 64030: 15, 64095: 15, 64111: 15, 64137: 15, 64162: 15, 64205: 15, 64235: 15, 64243: 15, 64125: 13, 26: 13, 64024: 12, 64025: 12, 64027: 12, 64032: 12, 64035: 12, 64038: 12, 64044: 12, 64047: 12, 64056: 12, 64057: 12, 64059: 12, 64066: 12, 64069: 12, 64112: 12, 64115: 12, 64120: 12, 64128: 12, 64061: 11, 64113: 11, 64114: 11, 64116: 11, 64117: 11, 64122: 11, 64123: 11, 64124: 11, 64126: 11, 64127: 11, 64130: 11, 64165: 11, 64121: 8, 64064: 7, 64091: 6, 64118: 6, 64119: 6, 64233: 5, 64087: 4, 64097: 4, 64178: 4, 64093: 3, 64094: 3, 64098: 3, 64159: 3, 64171: 3, 64177: 3, 64196: 3, 64209: 3, 64203: 3, 64206: 3, 64249: 3, 64237: 3, 64020: 2, 64105: 2, 64240: 2, 64238: 2, 64078: 1, 64077: 1, 64073: 1, 64082: 1, 64074: 1, 64079: 1, 64081: 1, 64080: 1, 64084: 1, 64071: 1, 64072: 1, 64083: 1, 64076: 1, 64075: 1, 64089: 1, 64092: 1, 64096: 1, 64100: 1, 64102: 1, 64103: 1, 64107: 1, 64106: 1, 64152: 1, 64131: 1, 64143: 1, 64151: 1, 64153: 1, 64144: 1, 64146: 1, 64154: 1, 64148: 1, 64140: 1, 64147: 1, 64149: 1, 64150: 1, 64141: 1, 64145: 1, 64156: 1, 64142: 1, 64139: 1, 64155: 1, 64166: 1, 64168: 1, 64170: 1, 64172: 1, 64174: 1, 64201: 1, 64207: 1, 64211: 1, 64212: 1, 64253: 1})\n",
      "urls: Counter()\n",
      "Processing /Users/jedmitten/GitRepos/challenge-datasets/malware/2023-04-13-MetaStealer-C2-traffic.pcap...\n",
      "Found 19852 IPv4 packets\n",
      "Found 0 IPv6 packets\n",
      "Found 19839 TCP packets\n",
      "Found 8 UDP packets\n",
      "dports: Counter({49825: 12479, 1775: 7310, 49877: 10, 49833: 6, 49835: 6, 49880: 6, 49883: 6, 49886: 6, 49822: 5, 49832: 5})\n",
      "urls: Counter()\n",
      "Processing /Users/jedmitten/GitRepos/challenge-datasets/malware/2023-01-05-Agent-Tesla-variant-traffic.pcap...\n",
      "Found 1039 IPv4 packets\n",
      "Found 0 IPv6 packets\n",
      "Found 998 TCP packets\n",
      "Found 41 UDP packets\n",
      "dports: Counter({51952: 490, 443: 141, 80: 126, 51965: 51, 51966: 29, 51958: 23, 51959: 23, 51960: 23, 587: 17, 51967: 17, 51968: 17, 51961: 15, 51957: 13, 51969: 13})\n",
      "urls: Counter()\n",
      "Processing /Users/jedmitten/GitRepos/challenge-datasets/malware/2023-01-16-IcedID-infection-with-Backonnect-and-VNC-and-Cobalt-Strike.pcap...\n",
      "Found 25048 IPv4 packets\n",
      "Found 0 IPv6 packets\n",
      "Found 24970 TCP packets\n",
      "Found 78 UDP packets\n",
      "dports: Counter({64823: 8050, 8080: 7826, 80: 2551, 61496: 1402, 443: 1137, 65109: 762, 61492: 424, 65026: 409, 65071: 370, 64996: 218, 64638: 183, 65024: 117, 64799: 111, 64806: 96, 64801: 29, 64819: 29, 64948: 26, 64382: 24, 64804: 20, 61502: 17, 64643: 16, 64513: 15, 64795: 15, 64957: 15, 65104: 15, 64660: 14, 64818: 14, 64494: 13, 64779: 13, 64933: 13, 61498: 12, 64952: 12, 64990: 12, 61497: 11, 64375: 9, 64398: 9, 64422: 9, 64445: 9, 64468: 9, 64489: 9, 64514: 9, 64538: 9, 64558: 9, 64586: 9, 64606: 9, 64637: 9, 64664: 9, 64685: 9, 64709: 9, 64733: 9, 64753: 9, 64776: 9, 64800: 9, 64833: 9, 64853: 9, 64881: 9, 64903: 9, 64930: 9, 64958: 9, 64979: 9, 65043: 9, 65132: 9, 65208: 9, 65025: 7, 65079: 6, 64997: 5, 65005: 5, 65006: 5, 65008: 5, 65010: 5, 65013: 5, 65014: 5, 65015: 5, 65017: 5, 65018: 5, 65022: 5, 65023: 5, 65029: 5, 65030: 5, 65031: 5, 65032: 5, 65035: 5, 65036: 5, 65038: 5, 65040: 5, 65045: 5, 65046: 5, 65050: 5, 65051: 5, 65061: 5, 65098: 5, 65099: 5, 65110: 5, 65117: 5, 65119: 5, 65126: 5, 65128: 5, 65140: 5, 65155: 5, 65156: 5, 65163: 5, 65164: 5, 65165: 5, 65166: 5, 65168: 5, 65176: 5, 65177: 5, 65180: 5, 65186: 5, 65193: 5, 65195: 5, 65201: 5, 65203: 5, 65205: 5, 65207: 5, 65210: 5, 65213: 5, 65214: 5, 65215: 5, 65217: 5, 65218: 5, 65220: 5, 65221: 5, 65222: 5, 65223: 5, 65226: 5, 65231: 5, 65232: 5, 65233: 5, 65002: 4, 65003: 4, 65004: 4, 65007: 4, 65009: 4, 65011: 4, 65012: 4, 65016: 4, 65021: 4, 65027: 4, 65028: 4, 65037: 4, 65039: 4, 65041: 4, 65042: 4, 65044: 4, 65049: 4, 65053: 4, 65054: 4, 65055: 4, 65056: 4, 65057: 4, 65058: 4, 65060: 4, 65070: 4, 65085: 4, 65086: 4, 65087: 4, 65088: 4, 65089: 4, 65090: 4, 65091: 4, 65092: 4, 65095: 4, 65096: 4, 65097: 4, 65100: 4, 65101: 4, 65102: 4, 65103: 4, 65105: 4, 65106: 4, 65111: 4, 65112: 4, 65113: 4, 65114: 4, 65115: 4, 65116: 4, 65118: 4, 65121: 4, 65124: 4, 65125: 4, 65127: 4, 65129: 4, 65130: 4, 65131: 4, 65133: 4, 65134: 4, 65135: 4, 65138: 4, 65139: 4, 65141: 4, 65142: 4, 65143: 4, 65144: 4, 65145: 4, 65146: 4, 65147: 4, 65148: 4, 65157: 4, 65167: 4, 65169: 4, 65170: 4, 65173: 4, 65174: 4, 65175: 4, 65178: 4, 65179: 4, 65181: 4, 65182: 4, 65183: 4, 65187: 4, 65188: 4, 65189: 4, 65190: 4, 65191: 4, 65192: 4, 65194: 4, 65196: 4, 65199: 4, 65200: 4, 65202: 4, 65204: 4, 65206: 4, 65209: 4, 65219: 4, 61499: 1})\n",
      "urls: Counter()\n",
      "Processing /Users/jedmitten/GitRepos/challenge-datasets/malware/2022-01-04-Remcos-RAT-infection-traffic.pcap...\n",
      "Found 5627 IPv4 packets\n",
      "Found 0 IPv6 packets\n",
      "Found 5621 TCP packets\n",
      "Found 6 UDP packets\n",
      "dports: Counter({50046: 1774, 10174: 1397, 50051: 1246, 80: 768, 50050: 357, 443: 19, 50048: 18, 50044: 14, 50049: 10, 50043: 9, 50045: 6, 50042: 3})\n",
      "urls: Counter()\n",
      "Processing /Users/jedmitten/GitRepos/challenge-datasets/malware/2023-03-18-Emotet-E5-infection-traffic.pcap...\n",
      "Found 18839 IPv4 packets\n",
      "Found 0 IPv6 packets\n",
      "Found 18000 TCP packets\n",
      "Found 696 UDP packets\n",
      "dports: Counter({8080: 2330, 443: 1853, 50895: 634, 50901: 629, 50903: 628, 50898: 623, 50900: 615, 50902: 609, 51292: 608, 50896: 595, 80: 592, 51199: 510, 7080: 418, 51022: 413, 51019: 382, 445: 282, 50897: 238, 50954: 221, 51012: 213, 51390: 212, 51385: 205, 51005: 201, 50913: 179, 51198: 118, 51153: 117, 50904: 112, 50912: 112, 389: 100, 139: 98, 49669: 85, 50951: 53, 51340: 52, 135: 51, 2049: 34, 51154: 27, 51477: 23, 51164: 22, 51209: 22, 50940: 19, 50941: 19, 50923: 17, 50935: 17, 51387: 17, 50920: 16, 50922: 16, 50932: 16, 50936: 16, 50939: 16, 50960: 16, 50996: 16, 51035: 16, 50919: 15, 50921: 15, 51123: 15, 51168: 15, 51389: 15, 51409: 15, 51450: 15, 50984: 14, 51082: 14, 51214: 14, 51263: 14, 51306: 14, 51355: 14, 51388: 14, 51478: 14, 51499: 14, 50914: 13, 50980: 13, 51045: 13, 51336: 13, 51493: 13, 50905: 12, 50907: 12, 50918: 12, 50927: 12, 50933: 12, 50944: 12, 50948: 12, 50949: 12, 50950: 12, 50953: 12, 111: 12, 50986: 12, 50991: 12, 51018: 12, 51021: 12, 51152: 12, 51293: 12, 51341: 12, 51391: 12, 50908: 11, 51004: 11, 51006: 11, 51020: 11, 51042: 11, 51089: 11, 51125: 11, 51146: 11, 51186: 11, 51197: 11, 51200: 11, 51278: 11, 51324: 11, 51335: 11, 51339: 11, 51384: 11, 51386: 11, 51468: 11, 50931: 10, 50976: 10, 50977: 10, 50989: 10, 51000: 10, 51037: 10, 51040: 10, 51041: 10, 51043: 10, 51061: 10, 51063: 10, 51084: 10, 51090: 10, 51097: 10, 51100: 10, 51105: 10, 51128: 10, 51129: 10, 51131: 10, 51170: 10, 51219: 10, 51221: 10, 51222: 10, 51227: 10, 51228: 10, 51237: 10, 51240: 10, 51265: 10, 51268: 10, 51271: 10, 51281: 10, 51308: 10, 51311: 10, 51312: 10, 51313: 10, 51321: 10, 51360: 10, 51362: 10, 51405: 10, 51411: 10, 51414: 10, 51417: 10, 51424: 10, 51452: 10, 51457: 10, 51458: 10, 51465: 10, 51473: 10, 51500: 10, 51501: 10, 51502: 10, 51509: 10, 50917: 9, 50938: 9, 50978: 9, 50979: 9, 51229: 9, 51232: 9, 51233: 9, 51406: 9, 51407: 9, 51007: 8, 51023: 8, 51070: 8, 51111: 8, 51155: 8, 51342: 8, 50909: 7, 50915: 7, 50924: 7, 50925: 7, 50926: 7, 50945: 7, 50952: 7, 50961: 7, 50966: 7, 51013: 7, 49703: 7, 51064: 7, 51141: 7, 51201: 7, 51216: 7, 51234: 7, 51251: 7, 51294: 7, 51373: 7, 51392: 7, 51438: 7, 51481: 7, 51512: 7, 50899: 6, 50990: 6, 50992: 6, 51051: 6, 51054: 6, 51059: 6, 51060: 6, 51087: 6, 51088: 6, 51130: 6, 51138: 6, 51173: 6, 51174: 6, 51175: 6, 51176: 6, 51183: 6, 51191: 6, 51220: 6, 51245: 6, 51269: 6, 51270: 6, 51286: 6, 51314: 6, 51329: 6, 51357: 6, 51361: 6, 51363: 6, 51370: 6, 51378: 6, 51415: 6, 51416: 6, 51427: 6, 51432: 6, 51455: 6, 51456: 6, 51495: 6, 50906: 5, 50916: 5, 50928: 5, 50929: 5, 50930: 5, 50934: 5, 50937: 5, 50955: 5, 910: 5, 50958: 5, 50965: 5, 50967: 5, 50968: 5, 50970: 5, 50971: 5, 50973: 5, 50982: 5, 50988: 5, 50994: 5, 50995: 5, 50997: 5, 50998: 5, 50999: 5, 51002: 5, 51003: 5, 51008: 5, 51009: 5, 51010: 5, 51011: 5, 51014: 5, 51015: 5, 51016: 5, 51017: 5, 51024: 5, 51025: 5, 51026: 5, 51028: 5, 51029: 5, 51030: 5, 51031: 5, 51033: 5, 51034: 5, 51039: 5, 51044: 5, 51046: 5, 51047: 5, 51049: 5, 51050: 5, 51052: 5, 51053: 5, 51055: 5, 51057: 5, 51058: 5, 51062: 5, 51065: 5, 51066: 5, 51067: 5, 51068: 5, 51073: 5, 51075: 5, 51077: 5, 51078: 5, 51080: 5, 51081: 5, 51083: 5, 51086: 5, 51091: 5, 51092: 5, 51093: 5, 51094: 5, 51095: 5, 51096: 5, 51098: 5, 51099: 5, 51101: 5, 51102: 5, 51103: 5, 51104: 5, 51106: 5, 51107: 5, 51108: 5, 51109: 5, 51110: 5, 51112: 5, 51113: 5, 51114: 5, 51115: 5, 51116: 5, 51117: 5, 51118: 5, 51119: 5, 51122: 5, 51124: 5, 51127: 5, 51132: 5, 51133: 5, 51135: 5, 51136: 5, 51137: 5, 51142: 5, 51143: 5, 51147: 5, 51148: 5, 51149: 5, 51150: 5, 51151: 5, 51156: 5, 51157: 5, 51158: 5, 51160: 5, 51161: 5, 51162: 5, 51163: 5, 51166: 5, 51167: 5, 51169: 5, 51172: 5, 51177: 5, 51178: 5, 51179: 5, 51180: 5, 51181: 5, 51182: 5, 51184: 5, 51185: 5, 51187: 5, 51188: 5, 51189: 5, 51190: 5, 51192: 5, 51193: 5, 51194: 5, 51195: 5, 51196: 5, 51204: 5, 51205: 5, 51206: 5, 51208: 5, 51210: 5, 51212: 5, 51213: 5, 51215: 5, 51218: 5, 51223: 5, 51224: 5, 51225: 5, 51230: 5, 51231: 5, 51235: 5, 51236: 5, 51238: 5, 51239: 5, 51241: 5, 51242: 5, 51243: 5, 51244: 5, 51246: 5, 51247: 5, 51248: 5, 51249: 5, 51250: 5, 51252: 5, 51253: 5, 51254: 5, 51256: 5, 51258: 5, 51259: 5, 51261: 5, 51267: 5, 51272: 5, 51273: 5, 51277: 5, 51279: 5, 51280: 5, 51282: 5, 51283: 5, 51284: 5, 51285: 5, 51287: 5, 51288: 5, 51289: 5, 51290: 5, 51291: 5, 51295: 5, 51296: 5, 51297: 5, 51300: 5, 51304: 5, 51307: 5, 51315: 5, 51316: 5, 51317: 5, 51318: 5, 51319: 5, 51320: 5, 51322: 5, 51323: 5, 51325: 5, 51326: 5, 51328: 5, 51330: 5, 51331: 5, 51332: 5, 51333: 5, 51334: 5, 51337: 5, 51338: 5, 51343: 5, 51344: 5, 51345: 5, 51349: 5, 51351: 5, 51353: 5, 51354: 5, 51359: 5, 51364: 5, 51365: 5, 51366: 5, 51367: 5, 51368: 5, 51369: 5, 51371: 5, 51372: 5, 51374: 5, 51375: 5, 51376: 5, 51377: 5, 51379: 5, 51380: 5, 51381: 5, 51382: 5, 51383: 5, 51393: 5, 51394: 5, 51395: 5, 51396: 5, 51397: 5, 51398: 5, 51399: 5, 51400: 5, 51401: 5, 51403: 5, 51410: 5, 51413: 5, 51418: 5, 51419: 5, 51420: 5, 51421: 5, 51422: 5, 51423: 5, 51425: 5, 51426: 5, 51428: 5, 51429: 5, 51430: 5, 51431: 5, 51433: 5, 51434: 5, 51435: 5, 51436: 5, 51437: 5, 51439: 5, 51440: 5, 51441: 5, 51442: 5, 51443: 5, 51444: 5, 51446: 5, 51449: 5, 51451: 5, 51454: 5, 51459: 5, 51461: 5, 51462: 5, 51463: 5, 51466: 5, 51467: 5, 51469: 5, 51470: 5, 51471: 5, 51472: 5, 51474: 5, 51475: 5, 51479: 5, 51482: 5, 51483: 5, 51484: 5, 51485: 5, 51486: 5, 51487: 5, 51488: 5, 51489: 5, 51492: 5, 51494: 5, 51497: 5, 51503: 5, 51505: 5, 51506: 5, 51507: 5, 50911: 4, 50942: 4, 50943: 4, 50946: 4, 50947: 4, 50956: 4, 50957: 4, 50959: 4, 50962: 4, 50963: 4, 50964: 4, 50969: 4, 50974: 4, 50975: 4, 50983: 4, 50985: 4, 50993: 4, 51027: 4, 51036: 4, 51048: 4, 51056: 4, 51069: 4, 51071: 4, 51072: 4, 51074: 4, 51076: 4, 51121: 4, 51134: 4, 51139: 4, 51140: 4, 51144: 4, 51145: 4, 51159: 4, 51202: 4, 51203: 4, 51207: 4, 51226: 4, 51255: 4, 51257: 4, 51262: 4, 51264: 4, 51274: 4, 51275: 4, 51276: 4, 51298: 4, 51299: 4, 51301: 4, 51302: 4, 51305: 4, 51310: 4, 51327: 4, 51346: 4, 51350: 4, 51356: 4, 51404: 4, 51408: 4, 51445: 4, 51448: 4, 51460: 4, 51464: 4, 51476: 4, 51491: 4, 51504: 4, 51508: 4, 51510: 4, 51511: 4, 970: 3, 50972: 3, 51001: 3, 51347: 3, 51348: 3, 51480: 3, 935: 2, 988: 2, 974: 2, 931: 2, 971: 2, 921: 2, 912: 2, 902: 2, 50910: 1, 50981: 1, 50987: 1, 51032: 1, 51038: 1, 51079: 1, 51085: 1, 51120: 1, 51126: 1, 51165: 1, 51171: 1, 51211: 1, 51217: 1, 51260: 1, 51266: 1, 51303: 1, 51309: 1, 51352: 1, 51358: 1, 51402: 1, 51412: 1, 51447: 1, 51453: 1, 51490: 1, 51498: 1, 51496: 1})\n",
      "urls: Counter()\n",
      "Processing /Users/jedmitten/GitRepos/challenge-datasets/malware/2022-12-07-Bumblebee-infection-with-Cobalt-Strike.pcap...\n",
      "Found 6487 IPv4 packets\n",
      "Found 0 IPv6 packets\n",
      "Found 6209 TCP packets\n",
      "Found 249 UDP packets\n",
      "dports: Counter({443: 2180, 50164: 220, 445: 186, 50162: 180, 49970: 151, 50160: 106, 389: 104, 49668: 69, 139: 65, 135: 47, 49973: 34, 50116: 32, 50017: 28, 50018: 28, 80: 26, 50026: 24, 49980: 23, 49986: 23, 50131: 23, 49964: 22, 3268: 20, 49978: 18, 50200: 18, 50016: 17, 50027: 17, 50132: 17, 50011: 16, 50194: 16, 50203: 16, 49962: 15, 49972: 15, 49977: 15, 50002: 15, 50006: 15, 50009: 15, 50039: 15, 50070: 15, 50099: 15, 50107: 15, 50113: 15, 50124: 15, 50125: 15, 50127: 15, 50136: 15, 50142: 15, 50170: 15, 50186: 15, 50199: 15, 49963: 14, 49965: 14, 49969: 14, 49976: 14, 49998: 14, 50005: 14, 50008: 14, 50010: 14, 50019: 14, 50020: 14, 50021: 14, 50022: 14, 50023: 14, 50024: 14, 50025: 14, 50028: 14, 50029: 14, 50030: 14, 50031: 14, 50032: 14, 50033: 14, 50034: 14, 50035: 14, 50036: 14, 50037: 14, 50038: 14, 50041: 14, 50043: 14, 50049: 14, 50051: 14, 50053: 14, 50055: 14, 50056: 14, 50057: 14, 50058: 14, 50059: 14, 50067: 14, 50068: 14, 50069: 14, 50071: 14, 50072: 14, 50073: 14, 50074: 14, 50075: 14, 50076: 14, 50077: 14, 50078: 14, 50079: 14, 50080: 14, 50081: 14, 50082: 14, 50083: 14, 50089: 14, 50091: 14, 50092: 14, 50093: 14, 50094: 14, 50095: 14, 50096: 14, 50097: 14, 50098: 14, 50100: 14, 50102: 14, 50103: 14, 50104: 14, 50105: 14, 50106: 14, 50108: 14, 50109: 14, 50110: 14, 50111: 14, 50112: 14, 50114: 14, 50115: 14, 50117: 14, 50118: 14, 50119: 14, 50120: 14, 50122: 14, 50123: 14, 50126: 14, 50128: 14, 50129: 14, 50130: 14, 50133: 14, 50134: 14, 50137: 14, 50138: 14, 50139: 14, 50140: 14, 50141: 14, 50143: 14, 50157: 14, 50179: 14, 50192: 14, 50193: 14, 50195: 14, 50196: 14, 50197: 14, 50201: 14, 50202: 14, 50205: 14, 50206: 14, 50207: 14, 49968: 13, 49971: 13, 49974: 13, 49975: 13, 50007: 13, 50101: 13, 50208: 13, 49967: 12, 50048: 12, 50050: 12, 50052: 12, 50054: 12, 50061: 12, 50090: 12, 50198: 12, 50042: 11, 50063: 11, 50085: 11, 50040: 10, 50045: 10, 50046: 10, 50064: 10, 50086: 10, 50121: 10, 50047: 9, 50065: 9, 50066: 9, 50087: 9, 50088: 9, 50147: 9, 50158: 9, 50165: 9, 50171: 9, 50172: 9, 50175: 9, 50176: 9, 50177: 9, 50181: 9, 50183: 9, 50184: 9, 50185: 9, 50188: 9, 50004: 8, 50145: 8, 50146: 8, 50148: 8, 50152: 8, 50153: 8, 50156: 8, 50159: 8, 50161: 8, 50163: 8, 50167: 8, 50168: 8, 50169: 8, 50173: 8, 50174: 8, 50178: 8, 50180: 8, 50182: 8, 50187: 8, 50189: 8, 50190: 8, 50191: 8, 50150: 7, 49686: 7, 50204: 7, 50003: 6, 50060: 6, 88: 6, 50151: 6, 50154: 6, 50155: 6, 452: 5, 118: 5, 49966: 5, 49982: 5, 50062: 5, 50084: 5, 50135: 5, 50144: 5, 50166: 5, 50044: 4, 50149: 4, 50012: 3, 50013: 3, 50014: 3, 50015: 3, 49959: 1, 49961: 1})\n",
      "urls: Counter()\n",
      "Processing /Users/jedmitten/GitRepos/challenge-datasets/malware/2022-09-21-Astaroth-Guildma-infection.pcap...\n",
      "Found 13482 IPv4 packets\n",
      "Found 0 IPv6 packets\n",
      "Found 13232 TCP packets\n",
      "Found 243 UDP packets\n",
      "dports: Counter({49790: 5885, 80: 3053, 443: 890, 49724: 535, 445: 201, 389: 174, 49743: 173, 49740: 139, 49738: 138, 88: 128, 49670: 109, 49667: 98, 49769: 80, 139: 65, 49745: 55, 135: 54, 49711: 53, 49752: 53, 49739: 46, 49742: 45, 49746: 43, 49741: 38, 49757: 34, 49729: 23, 49744: 23, 49766: 23, 49783: 22, 49682: 21, 49692: 20, 49715: 20, 49791: 20, 49782: 19, 49793: 19, 49727: 17, 49750: 17, 49763: 17, 49795: 17, 49723: 16, 49728: 16, 49770: 16, 49771: 16, 49773: 16, 49811: 16, 49730: 15, 49761: 15, 49774: 15, 49677: 14, 49717: 14, 49748: 14, 49762: 14, 49819: 14, 49716: 13, 49726: 13, 49797: 13, 49800: 13, 49801: 13, 49718: 12, 49725: 12, 49731: 12, 49764: 12, 49747: 11, 49749: 11, 49759: 11, 49755: 11, 49758: 11, 49765: 11, 49767: 11, 49803: 11, 49804: 11, 49805: 11, 49806: 11, 49809: 11, 49684: 10, 49700: 10, 49733: 10, 49776: 10, 49777: 10, 49807: 10, 49813: 10, 49814: 10, 49675: 9, 49701: 9, 49702: 9, 49734: 9, 49737: 9, 49778: 9, 49792: 9, 49810: 9, 49815: 9, 49674: 8, 49736: 8, 49754: 8, 49784: 8, 49669: 7, 49694: 7, 49713: 7, 49714: 7, 49719: 7, 49751: 7, 49789: 7, 49679: 6, 49681: 6, 49685: 6, 49687: 6, 49688: 6, 49693: 6, 49697: 6, 49698: 6, 49706: 6, 49708: 6, 49709: 6, 49710: 6, 49712: 6, 49722: 6, 49676: 5, 49680: 5, 49683: 5, 49705: 5, 49707: 5, 49721: 5, 49788: 5, 49673: 4, 49678: 4, 49699: 4, 49703: 4, 49704: 4, 49720: 4, 49732: 4, 49775: 4, 49812: 4, 49689: 3, 49691: 3, 49695: 3, 49696: 3})\n",
      "urls: Counter()\n"
     ]
    }
   ],
   "source": [
    "for fn in MALWAR_FILES:\n",
    "    with open(fn, \"rb\") as pcap_file:\n",
    "        print(f\"Processing {fn}...\")\n",
    "        scapy_pcap = sp.rdpcap(pcap_file)\n",
    "        process_pcap(scapy_pcap)"
   ]
  },
  {
   "attachments": {},
   "cell_type": "markdown",
   "metadata": {},
   "source": [
    "### Using PyCapKIT"
   ]
  },
  {
   "cell_type": "code",
   "execution_count": 83,
   "metadata": {},
   "outputs": [
    {
     "data": {
      "text/plain": [
       "PosixPath('/Users/jedmitten/GitRepos/challenge-datasets/benign/The Ultimate PCAP v20221220.pcapng')"
      ]
     },
     "execution_count": 83,
     "metadata": {},
     "output_type": "execute_result"
    }
   ],
   "source": [
    "BENIGN_FILES[0]"
   ]
  },
  {
   "cell_type": "code",
   "execution_count": 85,
   "metadata": {},
   "outputs": [
    {
     "name": "stderr",
     "output_type": "stream",
     "text": [
      "[ERROR] 05/08/2023 09:50:19 PM - FileNotFound: \n"
     ]
    },
    {
     "ename": "FileNotFound",
     "evalue": "[Errno 2] No such file or directory: '/Users/jedmitten/GitRepos/challenge-datasets/benign/The Ultimate PCAP v20221220.pcapng.pcap'",
     "output_type": "error",
     "traceback": [
      "\u001b[0;31m---------------------------------------------------------------------------\u001b[0m",
      "\u001b[0;31mFileNotFound\u001b[0m                              Traceback (most recent call last)",
      "Cell \u001b[0;32mIn[85], line 3\u001b[0m\n\u001b[1;32m      1\u001b[0m \u001b[39mfrom\u001b[39;00m \u001b[39mpcapkit\u001b[39;00m \u001b[39mimport\u001b[39;00m extract\n\u001b[0;32m----> 3\u001b[0m d \u001b[39m=\u001b[39m extract(fin\u001b[39m=\u001b[39;49mBENIGN_FILES[\u001b[39m0\u001b[39;49m], nofile\u001b[39m=\u001b[39;49m\u001b[39mTrue\u001b[39;49;00m)\n",
      "File \u001b[0;32m~/GitRepos/adAPT/.venv/lib/python3.9/site-packages/pcapkit/interface/core.py:109\u001b[0m, in \u001b[0;36mextract\u001b[0;34m(fin, fout, format, auto, extension, store, files, nofile, verbose, engine, layer, protocol, ip, ipv4, ipv6, tcp, strict, trace, trace_fout, trace_format, trace_byteorder, trace_nanosecond)\u001b[0m\n\u001b[1;32m    106\u001b[0m \u001b[39mif\u001b[39;00m \u001b[39misinstance\u001b[39m(layer, \u001b[39mtype\u001b[39m) \u001b[39mand\u001b[39;00m \u001b[39missubclass\u001b[39m(layer, Protocol):\n\u001b[1;32m    107\u001b[0m     layer \u001b[39m=\u001b[39m (layer\u001b[39m.\u001b[39m__layer__ \u001b[39mor\u001b[39;00m \u001b[39m'\u001b[39m\u001b[39mnone\u001b[39m\u001b[39m'\u001b[39m)\u001b[39m.\u001b[39mlower()  \u001b[39m# type: ignore[assignment]\u001b[39;00m\n\u001b[0;32m--> 109\u001b[0m \u001b[39mreturn\u001b[39;00m Extractor(fin\u001b[39m=\u001b[39;49mfin, fout\u001b[39m=\u001b[39;49mfout, \u001b[39mformat\u001b[39;49m\u001b[39m=\u001b[39;49m\u001b[39mformat\u001b[39;49m,\n\u001b[1;32m    110\u001b[0m                  store\u001b[39m=\u001b[39;49mstore, files\u001b[39m=\u001b[39;49mfiles, nofile\u001b[39m=\u001b[39;49mnofile,\n\u001b[1;32m    111\u001b[0m                  auto\u001b[39m=\u001b[39;49mauto, verbose\u001b[39m=\u001b[39;49mverbose, extension\u001b[39m=\u001b[39;49mextension,\n\u001b[1;32m    112\u001b[0m                  engine\u001b[39m=\u001b[39;49mengine, layer\u001b[39m=\u001b[39;49mlayer, protocol\u001b[39m=\u001b[39;49mprotocol,  \u001b[39m# type: ignore[arg-type]\u001b[39;49;00m\n\u001b[1;32m    113\u001b[0m                  ip\u001b[39m=\u001b[39;49mip, ipv4\u001b[39m=\u001b[39;49mipv4, ipv6\u001b[39m=\u001b[39;49mipv6, tcp\u001b[39m=\u001b[39;49mtcp, strict\u001b[39m=\u001b[39;49mstrict,\n\u001b[1;32m    114\u001b[0m                  trace\u001b[39m=\u001b[39;49mtrace, trace_fout\u001b[39m=\u001b[39;49mtrace_fout, trace_format\u001b[39m=\u001b[39;49mtrace_format,\n\u001b[1;32m    115\u001b[0m                  trace_byteorder\u001b[39m=\u001b[39;49mtrace_byteorder, trace_nanosecond\u001b[39m=\u001b[39;49mtrace_nanosecond)\n",
      "File \u001b[0;32m~/GitRepos/adAPT/.venv/lib/python3.9/site-packages/pcapkit/foundation/extraction.py:552\u001b[0m, in \u001b[0;36mExtractor.__init__\u001b[0;34m(self, fin, fout, format, auto, extension, store, files, nofile, verbose, engine, layer, protocol, ip, ipv4, ipv6, tcp, strict, trace, trace_fout, trace_format, trace_byteorder, trace_nanosecond)\u001b[0m\n\u001b[1;32m    549\u001b[0m \u001b[39mif\u001b[39;00m \u001b[39mformat\u001b[39m \u001b[39mis\u001b[39;00m \u001b[39mNone\u001b[39;00m:\n\u001b[1;32m    550\u001b[0m     \u001b[39mformat\u001b[39m \u001b[39m=\u001b[39m \u001b[39m'\u001b[39m\u001b[39mtree\u001b[39m\u001b[39m'\u001b[39m\n\u001b[0;32m--> 552\u001b[0m ifnm, ofnm, fmt, oext, files \u001b[39m=\u001b[39m \u001b[39mself\u001b[39;49m\u001b[39m.\u001b[39;49mmake_name(fin, fout, \u001b[39mformat\u001b[39;49m, extension, files\u001b[39m=\u001b[39;49mfiles, nofile\u001b[39m=\u001b[39;49mnofile)\n\u001b[1;32m    554\u001b[0m \u001b[39mself\u001b[39m\u001b[39m.\u001b[39m_ifnm \u001b[39m=\u001b[39m ifnm  \u001b[39m# input file name\u001b[39;00m\n\u001b[1;32m    555\u001b[0m \u001b[39mself\u001b[39m\u001b[39m.\u001b[39m_ofnm \u001b[39m=\u001b[39m ofnm  \u001b[39m# output file name\u001b[39;00m\n",
      "File \u001b[0;32m~/GitRepos/adAPT/.venv/lib/python3.9/site-packages/pcapkit/foundation/extraction.py:414\u001b[0m, in \u001b[0;36mExtractor.make_name\u001b[0;34m(cls, fin, fout, fmt, extension, files, nofile)\u001b[0m\n\u001b[1;32m    411\u001b[0m     ifnm \u001b[39m=\u001b[39m fin\n\u001b[1;32m    413\u001b[0m \u001b[39mif\u001b[39;00m \u001b[39mnot\u001b[39;00m os\u001b[39m.\u001b[39mpath\u001b[39m.\u001b[39misfile(ifnm):\n\u001b[0;32m--> 414\u001b[0m     \u001b[39mraise\u001b[39;00m FileNotFound(\u001b[39m2\u001b[39m, \u001b[39m'\u001b[39m\u001b[39mNo such file or directory\u001b[39m\u001b[39m'\u001b[39m, ifnm)\n\u001b[1;32m    416\u001b[0m \u001b[39mif\u001b[39;00m nofile:\n\u001b[1;32m    417\u001b[0m     ofnm \u001b[39m=\u001b[39m \u001b[39mNone\u001b[39;00m\n",
      "\u001b[0;31mFileNotFound\u001b[0m: [Errno 2] No such file or directory: '/Users/jedmitten/GitRepos/challenge-datasets/benign/The Ultimate PCAP v20221220.pcapng.pcap'"
     ]
    }
   ],
   "source": [
    "from pcapkit import extract\n",
    "\n",
    "d = extract(fin=BENIGN_FILES[0], nofile=True)\n"
   ]
  },
  {
   "cell_type": "code",
   "execution_count": null,
   "metadata": {},
   "outputs": [],
   "source": []
  }
 ],
 "metadata": {
  "kernelspec": {
   "display_name": ".venv",
   "language": "python",
   "name": "python3"
  },
  "language_info": {
   "codemirror_mode": {
    "name": "ipython",
    "version": 3
   },
   "file_extension": ".py",
   "mimetype": "text/x-python",
   "name": "python",
   "nbconvert_exporter": "python",
   "pygments_lexer": "ipython3",
   "version": "3.9.13"
  },
  "orig_nbformat": 4
 },
 "nbformat": 4,
 "nbformat_minor": 2
}
